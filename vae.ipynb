{
  "nbformat": 4,
  "nbformat_minor": 0,
  "metadata": {
    "colab": {
      "provenance": [],
      "gpuType": "T4",
      "authorship_tag": "ABX9TyN2znMKsXdH9QlnoIkM4+8n",
      "include_colab_link": true
    },
    "kernelspec": {
      "name": "python3",
      "display_name": "Python 3"
    },
    "language_info": {
      "name": "python"
    },
    "accelerator": "GPU"
  },
  "cells": [
    {
      "cell_type": "markdown",
      "metadata": {
        "id": "view-in-github",
        "colab_type": "text"
      },
      "source": [
        "<a href=\"https://colab.research.google.com/github/Samay-jain622/Predictive-Maintenance-with-Markov-Chains-and-Anomaly-Detection-using-Variational-Autoencoders/blob/main/vae.ipynb\" target=\"_parent\"><img src=\"https://colab.research.google.com/assets/colab-badge.svg\" alt=\"Open In Colab\"/></a>"
      ]
    },
    {
      "cell_type": "markdown",
      "source": [
        "vae"
      ],
      "metadata": {
        "id": "W3DmhI9MqscU"
      }
    },
    {
      "cell_type": "code",
      "source": [
        "import pandas as pd"
      ],
      "metadata": {
        "id": "tZddl3rdqrzW"
      },
      "execution_count": 1,
      "outputs": []
    },
    {
      "cell_type": "code",
      "source": [
        "pip install optuna"
      ],
      "metadata": {
        "colab": {
          "base_uri": "https://localhost:8080/"
        },
        "id": "i3b3eFe2Eupl",
        "outputId": "0415f000-e0e0-43f4-aedf-d0e4b38a9463"
      },
      "execution_count": 2,
      "outputs": [
        {
          "output_type": "stream",
          "name": "stdout",
          "text": [
            "Collecting optuna\n",
            "  Downloading optuna-4.3.0-py3-none-any.whl.metadata (17 kB)\n",
            "Collecting alembic>=1.5.0 (from optuna)\n",
            "  Downloading alembic-1.15.2-py3-none-any.whl.metadata (7.3 kB)\n",
            "Collecting colorlog (from optuna)\n",
            "  Downloading colorlog-6.9.0-py3-none-any.whl.metadata (10 kB)\n",
            "Requirement already satisfied: numpy in /usr/local/lib/python3.11/dist-packages (from optuna) (2.0.2)\n",
            "Requirement already satisfied: packaging>=20.0 in /usr/local/lib/python3.11/dist-packages (from optuna) (24.2)\n",
            "Requirement already satisfied: sqlalchemy>=1.4.2 in /usr/local/lib/python3.11/dist-packages (from optuna) (2.0.40)\n",
            "Requirement already satisfied: tqdm in /usr/local/lib/python3.11/dist-packages (from optuna) (4.67.1)\n",
            "Requirement already satisfied: PyYAML in /usr/local/lib/python3.11/dist-packages (from optuna) (6.0.2)\n",
            "Requirement already satisfied: Mako in /usr/lib/python3/dist-packages (from alembic>=1.5.0->optuna) (1.1.3)\n",
            "Requirement already satisfied: typing-extensions>=4.12 in /usr/local/lib/python3.11/dist-packages (from alembic>=1.5.0->optuna) (4.13.2)\n",
            "Requirement already satisfied: greenlet>=1 in /usr/local/lib/python3.11/dist-packages (from sqlalchemy>=1.4.2->optuna) (3.2.0)\n",
            "Downloading optuna-4.3.0-py3-none-any.whl (386 kB)\n",
            "\u001b[2K   \u001b[90m━━━━━━━━━━━━━━━━━━━━━━━━━━━━━━━━━━━━━━━━\u001b[0m \u001b[32m386.6/386.6 kB\u001b[0m \u001b[31m14.2 MB/s\u001b[0m eta \u001b[36m0:00:00\u001b[0m\n",
            "\u001b[?25hDownloading alembic-1.15.2-py3-none-any.whl (231 kB)\n",
            "\u001b[2K   \u001b[90m━━━━━━━━━━━━━━━━━━━━━━━━━━━━━━━━━━━━━━━━\u001b[0m \u001b[32m231.9/231.9 kB\u001b[0m \u001b[31m19.5 MB/s\u001b[0m eta \u001b[36m0:00:00\u001b[0m\n",
            "\u001b[?25hDownloading colorlog-6.9.0-py3-none-any.whl (11 kB)\n",
            "Installing collected packages: colorlog, alembic, optuna\n",
            "Successfully installed alembic-1.15.2 colorlog-6.9.0 optuna-4.3.0\n"
          ]
        }
      ]
    },
    {
      "cell_type": "code",
      "source": [
        "import torch\n",
        "import torch.nn as nn\n",
        "import torch.optim as optim\n",
        "import numpy as np\n",
        "import optuna\n",
        "from torch.utils.data import DataLoader, Dataset"
      ],
      "metadata": {
        "id": "ISCRRkQlEqhQ"
      },
      "execution_count": 3,
      "outputs": []
    },
    {
      "cell_type": "code",
      "source": [
        "train_data=pd.read_csv('/content/som_train.csv')\n",
        "test_data=pd.read_csv('/content/som_test.csv')"
      ],
      "metadata": {
        "id": "q0U8ocFsEtgM"
      },
      "execution_count": 4,
      "outputs": []
    },
    {
      "cell_type": "code",
      "source": [
        "train_data.isnull().sum()"
      ],
      "metadata": {
        "colab": {
          "base_uri": "https://localhost:8080/",
          "height": 335
        },
        "id": "Nx-sq2lnFMN-",
        "outputId": "9ffd68f2-7927-4ed6-dae4-4981d4fd00a0"
      },
      "execution_count": 5,
      "outputs": [
        {
          "output_type": "execute_result",
          "data": {
            "text/plain": [
              "A     4\n",
              "B     4\n",
              "C     4\n",
              "L1    4\n",
              "L2    4\n",
              "L3    4\n",
              "L4    4\n",
              "L5    4\n",
              "dtype: int64"
            ],
            "text/html": [
              "<div>\n",
              "<style scoped>\n",
              "    .dataframe tbody tr th:only-of-type {\n",
              "        vertical-align: middle;\n",
              "    }\n",
              "\n",
              "    .dataframe tbody tr th {\n",
              "        vertical-align: top;\n",
              "    }\n",
              "\n",
              "    .dataframe thead th {\n",
              "        text-align: right;\n",
              "    }\n",
              "</style>\n",
              "<table border=\"1\" class=\"dataframe\">\n",
              "  <thead>\n",
              "    <tr style=\"text-align: right;\">\n",
              "      <th></th>\n",
              "      <th>0</th>\n",
              "    </tr>\n",
              "  </thead>\n",
              "  <tbody>\n",
              "    <tr>\n",
              "      <th>A</th>\n",
              "      <td>4</td>\n",
              "    </tr>\n",
              "    <tr>\n",
              "      <th>B</th>\n",
              "      <td>4</td>\n",
              "    </tr>\n",
              "    <tr>\n",
              "      <th>C</th>\n",
              "      <td>4</td>\n",
              "    </tr>\n",
              "    <tr>\n",
              "      <th>L1</th>\n",
              "      <td>4</td>\n",
              "    </tr>\n",
              "    <tr>\n",
              "      <th>L2</th>\n",
              "      <td>4</td>\n",
              "    </tr>\n",
              "    <tr>\n",
              "      <th>L3</th>\n",
              "      <td>4</td>\n",
              "    </tr>\n",
              "    <tr>\n",
              "      <th>L4</th>\n",
              "      <td>4</td>\n",
              "    </tr>\n",
              "    <tr>\n",
              "      <th>L5</th>\n",
              "      <td>4</td>\n",
              "    </tr>\n",
              "  </tbody>\n",
              "</table>\n",
              "</div><br><label><b>dtype:</b> int64</label>"
            ]
          },
          "metadata": {},
          "execution_count": 5
        }
      ]
    },
    {
      "cell_type": "code",
      "source": [
        "train_data.dropna(inplace=True)"
      ],
      "metadata": {
        "id": "EEcOR3uKNHpH"
      },
      "execution_count": 6,
      "outputs": []
    },
    {
      "cell_type": "code",
      "source": [
        "test_data.dropna(inplace=True)"
      ],
      "metadata": {
        "id": "U0VqxgwVNKgM"
      },
      "execution_count": 7,
      "outputs": []
    },
    {
      "cell_type": "code",
      "source": [
        "test_data.isnull().sum()"
      ],
      "metadata": {
        "colab": {
          "base_uri": "https://localhost:8080/",
          "height": 335
        },
        "id": "V09DS3pnNNiK",
        "outputId": "941dce09-e428-410d-ad31-9a934eeb0d64"
      },
      "execution_count": 8,
      "outputs": [
        {
          "output_type": "execute_result",
          "data": {
            "text/plain": [
              "A     0\n",
              "B     0\n",
              "C     0\n",
              "L1    0\n",
              "L2    0\n",
              "L3    0\n",
              "L4    0\n",
              "L5    0\n",
              "dtype: int64"
            ],
            "text/html": [
              "<div>\n",
              "<style scoped>\n",
              "    .dataframe tbody tr th:only-of-type {\n",
              "        vertical-align: middle;\n",
              "    }\n",
              "\n",
              "    .dataframe tbody tr th {\n",
              "        vertical-align: top;\n",
              "    }\n",
              "\n",
              "    .dataframe thead th {\n",
              "        text-align: right;\n",
              "    }\n",
              "</style>\n",
              "<table border=\"1\" class=\"dataframe\">\n",
              "  <thead>\n",
              "    <tr style=\"text-align: right;\">\n",
              "      <th></th>\n",
              "      <th>0</th>\n",
              "    </tr>\n",
              "  </thead>\n",
              "  <tbody>\n",
              "    <tr>\n",
              "      <th>A</th>\n",
              "      <td>0</td>\n",
              "    </tr>\n",
              "    <tr>\n",
              "      <th>B</th>\n",
              "      <td>0</td>\n",
              "    </tr>\n",
              "    <tr>\n",
              "      <th>C</th>\n",
              "      <td>0</td>\n",
              "    </tr>\n",
              "    <tr>\n",
              "      <th>L1</th>\n",
              "      <td>0</td>\n",
              "    </tr>\n",
              "    <tr>\n",
              "      <th>L2</th>\n",
              "      <td>0</td>\n",
              "    </tr>\n",
              "    <tr>\n",
              "      <th>L3</th>\n",
              "      <td>0</td>\n",
              "    </tr>\n",
              "    <tr>\n",
              "      <th>L4</th>\n",
              "      <td>0</td>\n",
              "    </tr>\n",
              "    <tr>\n",
              "      <th>L5</th>\n",
              "      <td>0</td>\n",
              "    </tr>\n",
              "  </tbody>\n",
              "</table>\n",
              "</div><br><label><b>dtype:</b> int64</label>"
            ]
          },
          "metadata": {},
          "execution_count": 8
        }
      ]
    },
    {
      "cell_type": "markdown",
      "source": [],
      "metadata": {
        "id": "yH9KOM0vFMEm"
      }
    },
    {
      "cell_type": "code",
      "source": [
        "import torch\n",
        "import torch.nn as nn\n",
        "import torch.optim as optim\n",
        "import numpy as np\n",
        "import optuna\n",
        "from sklearn.preprocessing import MinMaxScaler\n",
        "from torch.utils.data import DataLoader,Dataset"
      ],
      "metadata": {
        "id": "iIE7lICLFPMJ"
      },
      "execution_count": 9,
      "outputs": []
    },
    {
      "cell_type": "code",
      "source": [
        "scaler = MinMaxScaler()\n",
        "train_data = scaler.fit_transform(train_data)\n",
        "test_data = scaler.transform(test_data)"
      ],
      "metadata": {
        "id": "QKtfFGrOEz1x"
      },
      "execution_count": 10,
      "outputs": []
    },
    {
      "cell_type": "code",
      "source": [
        "train_data=torch.tensor(train_data,dtype=torch.float32)\n",
        "test_data=torch.tensor(test_data,dtype=torch.float32)"
      ],
      "metadata": {
        "id": "cz5qSwJMFLM8"
      },
      "execution_count": 11,
      "outputs": []
    },
    {
      "cell_type": "code",
      "source": [
        "device = torch.device(\"cuda\" if torch.cuda.is_available() else \"cpu\")\n",
        "print(f\"Using device: {device}\")"
      ],
      "metadata": {
        "colab": {
          "base_uri": "https://localhost:8080/"
        },
        "id": "Aw6p8fNDFSko",
        "outputId": "361826f1-dbc7-49f5-a7cf-ee26db0feee2"
      },
      "execution_count": 12,
      "outputs": [
        {
          "output_type": "stream",
          "name": "stdout",
          "text": [
            "Using device: cuda\n"
          ]
        }
      ]
    },
    {
      "cell_type": "code",
      "source": [
        "class VAE(nn.Module):\n",
        "\n",
        "  def __init__(self,input_dim,latent_dim,hidden_units,dropout_rate):\n",
        "    super().__init__()\n",
        "    encoded_layers=[]\n",
        "    prev_dim=input_dim\n",
        "    for h in hidden_units:\n",
        "      encoded_layers.append(nn.Linear(prev_dim,h))\n",
        "      encoded_layers.append(nn.BatchNorm1d(h))\n",
        "      encoded_layers.append(nn.ReLU())\n",
        "      encoded_layers.append(nn.Dropout(dropout_rate))\n",
        "      prev_dim=h\n",
        "\n",
        "    self.encoder=nn.Sequential(*encoded_layers)\n",
        "    self.fc_mu=nn.Linear(prev_dim,latent_dim)\n",
        "    self.fc_var=nn.Linear(prev_dim,latent_dim)\n",
        "\n",
        "    decoded_layers=[]\n",
        "    prev_dim=latent_dim\n",
        "    for h in hidden_units[::-1]:\n",
        "      decoded_layers.append(nn.Linear(prev_dim,h))\n",
        "      decoded_layers.append(nn.BatchNorm1d(h))\n",
        "      decoded_layers.append(nn.ReLU())\n",
        "      decoded_layers.append(nn.Dropout(dropout_rate))\n",
        "      prev_dim=h\n",
        "    decoded_layers.append(nn.Linear(prev_dim,input_dim))\n",
        "    decoded_layers.append(nn.Sigmoid())\n",
        "    self.decoder=nn.Sequential(*decoded_layers)\n",
        "\n",
        "    self.initialize_weights()\n",
        "  def initialize_weights(self):\n",
        "        for m in self.modules():\n",
        "            if isinstance(m, nn.Linear):\n",
        "                nn.init.xavier_uniform_(m.weight)\n",
        "                if m.bias is not None:\n",
        "                    nn.init.zeros_(m.bias)\n",
        "\n",
        "  def reparameterize(self,mu,logvar):\n",
        "    std=torch.exp(0.5*logvar)\n",
        "    eps=torch.randn_like(std,device=device)\n",
        "    return mu+std*eps\n",
        "\n",
        "  def forward(self,x):\n",
        "    encoded=self.encoder(x)\n",
        "    mu,logvar=self.fc_mu(encoded),self.fc_var(encoded)\n",
        "    z=self.reparameterize(mu,logvar)\n",
        "    decoded=self.decoder(z)\n",
        "    return decoded,mu,logvar"
      ],
      "metadata": {
        "id": "mQCxKeXbFWfB"
      },
      "execution_count": 13,
      "outputs": []
    },
    {
      "cell_type": "code",
      "source": [
        "def vae_loss_function(reconstructed, original, mu, logvar):\n",
        "\n",
        "    recon_loss = nn.functional.mse_loss(reconstructed, original, reduction='sum')\n",
        "\n",
        "    # KL Divergence Loss\n",
        "    kl_divergence = -0.5 * torch.sum(1 + logvar - mu.pow(2) - logvar.exp())\n",
        "\n",
        "    return recon_loss + kl_divergence"
      ],
      "metadata": {
        "id": "B3qkw19fIhtn"
      },
      "execution_count": 14,
      "outputs": []
    },
    {
      "cell_type": "code",
      "source": [
        "train_data = train_data.to(device)\n",
        "test_data = test_data.to(device)"
      ],
      "metadata": {
        "id": "lDzB0b8YJVjx"
      },
      "execution_count": 15,
      "outputs": []
    },
    {
      "cell_type": "code",
      "source": [
        "def objective(trial):\n",
        "    # Hyperparameter tuning\n",
        "    latent_dim = trial.suggest_int(\"latent_dim\", 1, 4)\n",
        "    num_layers = trial.suggest_int(\"num_layers\", 1,3\n",
        "                                   )\n",
        "    hidden_units = [trial.suggest_int(f\"hidden_{i}\", 16, 128, step=16) for i in range(num_layers)]\n",
        "    batch_size = trial.suggest_categorical(\"batch_size\", [32, 64, 128])\n",
        "    learning_rate = trial.suggest_float(\"learning_rate\", 1e-5, 1e-1, log=True)\n",
        "    dropout_rate = trial.suggest_float(\"dropout_rate\", 0.1, 0.5, step=0.10)\n",
        "    epochs = trial.suggest_int(\"epochs\", 60, 100, step=20)\n",
        "        # Data loaders\n",
        "    train_loader = DataLoader(train_data, batch_size=batch_size, shuffle=True)\n",
        "    test_loader = DataLoader(test_data, batch_size=batch_size, shuffle=False)\n",
        "\n",
        "    input_dim=train_data.shape[1]\n",
        "    model = VAE(input_dim, latent_dim, hidden_units,dropout_rate).to(device)\n",
        "    optimizer = optim.Adam(model.parameters(), lr=learning_rate)\n",
        "    for epoch in range(epochs):\n",
        "      model.train()\n",
        "      for batch in train_loader:\n",
        "        batch_features=batch.to(device)\n",
        "        optimizer.zero_grad()\n",
        "        reconstructed,mu,logvar=model(batch_features)\n",
        "        loss = vae_loss_function(reconstructed, batch_features, mu, logvar)\n",
        "        loss.backward()\n",
        "        optimizer.step()\n",
        "\n",
        "    model.eval()\n",
        "    with torch.no_grad():\n",
        "        reconstructed, mu, logvar = model(test_data)\n",
        "        reconstruction_error = ((reconstructed - test_data) ** 2).mean().item()\n",
        "\n",
        "    return reconstruction_error\n"
      ],
      "metadata": {
        "id": "E1GZZeAKJhPW"
      },
      "execution_count": null,
      "outputs": []
    },
    {
      "cell_type": "code",
      "source": [
        "import optuna\n",
        "\n",
        "study = optuna.create_study(direction='minimize')"
      ],
      "metadata": {
        "colab": {
          "base_uri": "https://localhost:8080/"
        },
        "id": "Xj3ftbCmKmy_",
        "outputId": "5638961a-edf3-4508-fb26-77266a153529"
      },
      "execution_count": null,
      "outputs": [
        {
          "output_type": "stream",
          "name": "stderr",
          "text": [
            "[I 2025-04-11 17:38:00,892] A new study created in memory with name: no-name-2da0bd83-03ca-4e41-bc36-852d62d87d92\n"
          ]
        }
      ]
    },
    {
      "cell_type": "code",
      "source": [],
      "metadata": {
        "id": "jJQiAsVNM8Sn"
      },
      "execution_count": null,
      "outputs": []
    },
    {
      "cell_type": "code",
      "source": [
        "study.optimize(objective, n_trials=10)"
      ],
      "metadata": {
        "colab": {
          "base_uri": "https://localhost:8080/"
        },
        "id": "u5yIkp-DKwWc",
        "outputId": "c03a8cf9-5988-44d9-9fab-4745e049cb02"
      },
      "execution_count": null,
      "outputs": [
        {
          "output_type": "stream",
          "name": "stderr",
          "text": [
            "[I 2025-04-11 17:43:03,682] Trial 0 finished with value: 0.04148967191576958 and parameters: {'latent_dim': 4, 'num_layers': 2, 'hidden_0': 64, 'hidden_1': 96, 'batch_size': 128, 'learning_rate': 0.00300944047506664, 'dropout_rate': 0.5, 'epochs': 80}. Best is trial 0 with value: 0.04148967191576958.\n",
            "[I 2025-04-11 17:47:01,478] Trial 1 finished with value: 0.04149436578154564 and parameters: {'latent_dim': 2, 'num_layers': 1, 'hidden_0': 80, 'batch_size': 128, 'learning_rate': 1.998007897287504e-05, 'dropout_rate': 0.4, 'epochs': 80}. Best is trial 0 with value: 0.04148967191576958.\n",
            "[I 2025-04-11 17:56:36,071] Trial 2 finished with value: 0.04147666320204735 and parameters: {'latent_dim': 4, 'num_layers': 2, 'hidden_0': 80, 'hidden_1': 64, 'batch_size': 64, 'learning_rate': 0.00024242558952901753, 'dropout_rate': 0.2, 'epochs': 80}. Best is trial 2 with value: 0.04147666320204735.\n",
            "[I 2025-04-11 18:15:12,328] Trial 3 finished with value: 0.04178283363580704 and parameters: {'latent_dim': 2, 'num_layers': 2, 'hidden_0': 48, 'hidden_1': 64, 'batch_size': 32, 'learning_rate': 0.054348603810147215, 'dropout_rate': 0.4, 'epochs': 80}. Best is trial 2 with value: 0.04147666320204735.\n",
            "[I 2025-04-11 18:19:10,527] Trial 4 finished with value: 0.0414409413933754 and parameters: {'latent_dim': 3, 'num_layers': 1, 'hidden_0': 48, 'batch_size': 128, 'learning_rate': 0.00012234213687243047, 'dropout_rate': 0.1, 'epochs': 80}. Best is trial 4 with value: 0.0414409413933754.\n",
            "[I 2025-04-11 18:37:43,815] Trial 5 finished with value: 0.0416758768260479 and parameters: {'latent_dim': 1, 'num_layers': 2, 'hidden_0': 16, 'hidden_1': 112, 'batch_size': 32, 'learning_rate': 0.05206808650047945, 'dropout_rate': 0.4, 'epochs': 80}. Best is trial 4 with value: 0.0414409413933754.\n",
            "[I 2025-04-11 18:46:57,369] Trial 6 finished with value: 0.04152476042509079 and parameters: {'latent_dim': 2, 'num_layers': 1, 'hidden_0': 64, 'batch_size': 64, 'learning_rate': 0.00040197953279942313, 'dropout_rate': 0.5, 'epochs': 100}. Best is trial 4 with value: 0.0414409413933754.\n",
            "[I 2025-04-11 19:09:53,778] Trial 7 finished with value: 0.04149147868156433 and parameters: {'latent_dim': 2, 'num_layers': 2, 'hidden_0': 32, 'hidden_1': 96, 'batch_size': 32, 'learning_rate': 5.6824564585587635e-05, 'dropout_rate': 0.2, 'epochs': 100}. Best is trial 4 with value: 0.0414409413933754.\n",
            "[I 2025-04-11 19:32:21,644] Trial 8 finished with value: 0.041504450142383575 and parameters: {'latent_dim': 2, 'num_layers': 3, 'hidden_0': 48, 'hidden_1': 80, 'hidden_2': 64, 'batch_size': 32, 'learning_rate': 1.8455787887089235e-05, 'dropout_rate': 0.5, 'epochs': 80}. Best is trial 4 with value: 0.0414409413933754.\n",
            "[I 2025-04-11 19:46:30,114] Trial 9 finished with value: 0.04151667654514313 and parameters: {'latent_dim': 3, 'num_layers': 1, 'hidden_0': 64, 'batch_size': 32, 'learning_rate': 0.014069695466499079, 'dropout_rate': 0.1, 'epochs': 80}. Best is trial 4 with value: 0.0414409413933754.\n"
          ]
        }
      ]
    },
    {
      "cell_type": "code",
      "source": [
        "print(\"Best hyperparameters:\", study.best_params)\n",
        "print(\"Best accuracy:\", study.best_value)\n"
      ],
      "metadata": {
        "id": "M6Me3MWvKyuf",
        "colab": {
          "base_uri": "https://localhost:8080/"
        },
        "outputId": "c65248e2-a569-4c00-ac21-42341fe8da30"
      },
      "execution_count": null,
      "outputs": [
        {
          "output_type": "stream",
          "name": "stdout",
          "text": [
            "Best hyperparameters: {'latent_dim': 3, 'num_layers': 1, 'hidden_0': 48, 'batch_size': 128, 'learning_rate': 0.00012234213687243047, 'dropout_rate': 0.1, 'epochs': 80}\n",
            "Best accuracy: 0.0414409413933754\n"
          ]
        }
      ]
    },
    {
      "cell_type": "code",
      "source": [
        "import optuna.visualization as vis\n",
        "\n",
        "vis.plot_optimization_history(study).show()  # Shows accuracy improvement over trials\n",
        "vis.plot_param_importances(study).show()  # Shows which hyperparameters are most important\n"
      ],
      "metadata": {
        "colab": {
          "base_uri": "https://localhost:8080/",
          "height": 1000
        },
        "id": "SofjspRG6__I",
        "outputId": "3ae9ce4d-b4d8-4d5d-98f7-42b0bf54c87f"
      },
      "execution_count": null,
      "outputs": [
        {
          "output_type": "display_data",
          "data": {
            "text/html": [
              "<html>\n",
              "<head><meta charset=\"utf-8\" /></head>\n",
              "<body>\n",
              "    <div>            <script src=\"https://cdnjs.cloudflare.com/ajax/libs/mathjax/2.7.5/MathJax.js?config=TeX-AMS-MML_SVG\"></script><script type=\"text/javascript\">if (window.MathJax && window.MathJax.Hub && window.MathJax.Hub.Config) {window.MathJax.Hub.Config({SVG: {font: \"STIX-Web\"}});}</script>                <script type=\"text/javascript\">window.PlotlyConfig = {MathJaxConfig: 'local'};</script>\n",
              "        <script charset=\"utf-8\" src=\"https://cdn.plot.ly/plotly-2.35.2.min.js\"></script>                <div id=\"4c9a26bc-0b1c-4da8-af43-6210518c0994\" class=\"plotly-graph-div\" style=\"height:525px; width:100%;\"></div>            <script type=\"text/javascript\">                                    window.PLOTLYENV=window.PLOTLYENV || {};                                    if (document.getElementById(\"4c9a26bc-0b1c-4da8-af43-6210518c0994\")) {                    Plotly.newPlot(                        \"4c9a26bc-0b1c-4da8-af43-6210518c0994\",                        [{\"mode\":\"markers\",\"name\":\"Objective Value\",\"x\":[0,1,2,3,4,5,6,7,8,9],\"y\":[0.04148967191576958,0.04149436578154564,0.04147666320204735,0.04178283363580704,0.0414409413933754,0.0416758768260479,0.04152476042509079,0.04149147868156433,0.041504450142383575,0.04151667654514313],\"type\":\"scatter\"},{\"mode\":\"lines\",\"name\":\"Best Value\",\"x\":[0,1,2,3,4,5,6,7,8,9],\"y\":[0.04148967191576958,0.04148967191576958,0.04147666320204735,0.04147666320204735,0.0414409413933754,0.0414409413933754,0.0414409413933754,0.0414409413933754,0.0414409413933754,0.0414409413933754],\"type\":\"scatter\"},{\"marker\":{\"color\":\"#cccccc\"},\"mode\":\"markers\",\"name\":\"Infeasible Trial\",\"showlegend\":false,\"x\":[],\"y\":[],\"type\":\"scatter\"}],                        {\"title\":{\"text\":\"Optimization History Plot\"},\"xaxis\":{\"title\":{\"text\":\"Trial\"}},\"yaxis\":{\"title\":{\"text\":\"Objective Value\"}},\"template\":{\"data\":{\"histogram2dcontour\":[{\"type\":\"histogram2dcontour\",\"colorbar\":{\"outlinewidth\":0,\"ticks\":\"\"},\"colorscale\":[[0.0,\"#0d0887\"],[0.1111111111111111,\"#46039f\"],[0.2222222222222222,\"#7201a8\"],[0.3333333333333333,\"#9c179e\"],[0.4444444444444444,\"#bd3786\"],[0.5555555555555556,\"#d8576b\"],[0.6666666666666666,\"#ed7953\"],[0.7777777777777778,\"#fb9f3a\"],[0.8888888888888888,\"#fdca26\"],[1.0,\"#f0f921\"]]}],\"choropleth\":[{\"type\":\"choropleth\",\"colorbar\":{\"outlinewidth\":0,\"ticks\":\"\"}}],\"histogram2d\":[{\"type\":\"histogram2d\",\"colorbar\":{\"outlinewidth\":0,\"ticks\":\"\"},\"colorscale\":[[0.0,\"#0d0887\"],[0.1111111111111111,\"#46039f\"],[0.2222222222222222,\"#7201a8\"],[0.3333333333333333,\"#9c179e\"],[0.4444444444444444,\"#bd3786\"],[0.5555555555555556,\"#d8576b\"],[0.6666666666666666,\"#ed7953\"],[0.7777777777777778,\"#fb9f3a\"],[0.8888888888888888,\"#fdca26\"],[1.0,\"#f0f921\"]]}],\"heatmap\":[{\"type\":\"heatmap\",\"colorbar\":{\"outlinewidth\":0,\"ticks\":\"\"},\"colorscale\":[[0.0,\"#0d0887\"],[0.1111111111111111,\"#46039f\"],[0.2222222222222222,\"#7201a8\"],[0.3333333333333333,\"#9c179e\"],[0.4444444444444444,\"#bd3786\"],[0.5555555555555556,\"#d8576b\"],[0.6666666666666666,\"#ed7953\"],[0.7777777777777778,\"#fb9f3a\"],[0.8888888888888888,\"#fdca26\"],[1.0,\"#f0f921\"]]}],\"heatmapgl\":[{\"type\":\"heatmapgl\",\"colorbar\":{\"outlinewidth\":0,\"ticks\":\"\"},\"colorscale\":[[0.0,\"#0d0887\"],[0.1111111111111111,\"#46039f\"],[0.2222222222222222,\"#7201a8\"],[0.3333333333333333,\"#9c179e\"],[0.4444444444444444,\"#bd3786\"],[0.5555555555555556,\"#d8576b\"],[0.6666666666666666,\"#ed7953\"],[0.7777777777777778,\"#fb9f3a\"],[0.8888888888888888,\"#fdca26\"],[1.0,\"#f0f921\"]]}],\"contourcarpet\":[{\"type\":\"contourcarpet\",\"colorbar\":{\"outlinewidth\":0,\"ticks\":\"\"}}],\"contour\":[{\"type\":\"contour\",\"colorbar\":{\"outlinewidth\":0,\"ticks\":\"\"},\"colorscale\":[[0.0,\"#0d0887\"],[0.1111111111111111,\"#46039f\"],[0.2222222222222222,\"#7201a8\"],[0.3333333333333333,\"#9c179e\"],[0.4444444444444444,\"#bd3786\"],[0.5555555555555556,\"#d8576b\"],[0.6666666666666666,\"#ed7953\"],[0.7777777777777778,\"#fb9f3a\"],[0.8888888888888888,\"#fdca26\"],[1.0,\"#f0f921\"]]}],\"surface\":[{\"type\":\"surface\",\"colorbar\":{\"outlinewidth\":0,\"ticks\":\"\"},\"colorscale\":[[0.0,\"#0d0887\"],[0.1111111111111111,\"#46039f\"],[0.2222222222222222,\"#7201a8\"],[0.3333333333333333,\"#9c179e\"],[0.4444444444444444,\"#bd3786\"],[0.5555555555555556,\"#d8576b\"],[0.6666666666666666,\"#ed7953\"],[0.7777777777777778,\"#fb9f3a\"],[0.8888888888888888,\"#fdca26\"],[1.0,\"#f0f921\"]]}],\"mesh3d\":[{\"type\":\"mesh3d\",\"colorbar\":{\"outlinewidth\":0,\"ticks\":\"\"}}],\"scatter\":[{\"fillpattern\":{\"fillmode\":\"overlay\",\"size\":10,\"solidity\":0.2},\"type\":\"scatter\"}],\"parcoords\":[{\"type\":\"parcoords\",\"line\":{\"colorbar\":{\"outlinewidth\":0,\"ticks\":\"\"}}}],\"scatterpolargl\":[{\"type\":\"scatterpolargl\",\"marker\":{\"colorbar\":{\"outlinewidth\":0,\"ticks\":\"\"}}}],\"bar\":[{\"error_x\":{\"color\":\"#2a3f5f\"},\"error_y\":{\"color\":\"#2a3f5f\"},\"marker\":{\"line\":{\"color\":\"#E5ECF6\",\"width\":0.5},\"pattern\":{\"fillmode\":\"overlay\",\"size\":10,\"solidity\":0.2}},\"type\":\"bar\"}],\"scattergeo\":[{\"type\":\"scattergeo\",\"marker\":{\"colorbar\":{\"outlinewidth\":0,\"ticks\":\"\"}}}],\"scatterpolar\":[{\"type\":\"scatterpolar\",\"marker\":{\"colorbar\":{\"outlinewidth\":0,\"ticks\":\"\"}}}],\"histogram\":[{\"marker\":{\"pattern\":{\"fillmode\":\"overlay\",\"size\":10,\"solidity\":0.2}},\"type\":\"histogram\"}],\"scattergl\":[{\"type\":\"scattergl\",\"marker\":{\"colorbar\":{\"outlinewidth\":0,\"ticks\":\"\"}}}],\"scatter3d\":[{\"type\":\"scatter3d\",\"line\":{\"colorbar\":{\"outlinewidth\":0,\"ticks\":\"\"}},\"marker\":{\"colorbar\":{\"outlinewidth\":0,\"ticks\":\"\"}}}],\"scattermapbox\":[{\"type\":\"scattermapbox\",\"marker\":{\"colorbar\":{\"outlinewidth\":0,\"ticks\":\"\"}}}],\"scatterternary\":[{\"type\":\"scatterternary\",\"marker\":{\"colorbar\":{\"outlinewidth\":0,\"ticks\":\"\"}}}],\"scattercarpet\":[{\"type\":\"scattercarpet\",\"marker\":{\"colorbar\":{\"outlinewidth\":0,\"ticks\":\"\"}}}],\"carpet\":[{\"aaxis\":{\"endlinecolor\":\"#2a3f5f\",\"gridcolor\":\"white\",\"linecolor\":\"white\",\"minorgridcolor\":\"white\",\"startlinecolor\":\"#2a3f5f\"},\"baxis\":{\"endlinecolor\":\"#2a3f5f\",\"gridcolor\":\"white\",\"linecolor\":\"white\",\"minorgridcolor\":\"white\",\"startlinecolor\":\"#2a3f5f\"},\"type\":\"carpet\"}],\"table\":[{\"cells\":{\"fill\":{\"color\":\"#EBF0F8\"},\"line\":{\"color\":\"white\"}},\"header\":{\"fill\":{\"color\":\"#C8D4E3\"},\"line\":{\"color\":\"white\"}},\"type\":\"table\"}],\"barpolar\":[{\"marker\":{\"line\":{\"color\":\"#E5ECF6\",\"width\":0.5},\"pattern\":{\"fillmode\":\"overlay\",\"size\":10,\"solidity\":0.2}},\"type\":\"barpolar\"}],\"pie\":[{\"automargin\":true,\"type\":\"pie\"}]},\"layout\":{\"autotypenumbers\":\"strict\",\"colorway\":[\"#636efa\",\"#EF553B\",\"#00cc96\",\"#ab63fa\",\"#FFA15A\",\"#19d3f3\",\"#FF6692\",\"#B6E880\",\"#FF97FF\",\"#FECB52\"],\"font\":{\"color\":\"#2a3f5f\"},\"hovermode\":\"closest\",\"hoverlabel\":{\"align\":\"left\"},\"paper_bgcolor\":\"white\",\"plot_bgcolor\":\"#E5ECF6\",\"polar\":{\"bgcolor\":\"#E5ECF6\",\"angularaxis\":{\"gridcolor\":\"white\",\"linecolor\":\"white\",\"ticks\":\"\"},\"radialaxis\":{\"gridcolor\":\"white\",\"linecolor\":\"white\",\"ticks\":\"\"}},\"ternary\":{\"bgcolor\":\"#E5ECF6\",\"aaxis\":{\"gridcolor\":\"white\",\"linecolor\":\"white\",\"ticks\":\"\"},\"baxis\":{\"gridcolor\":\"white\",\"linecolor\":\"white\",\"ticks\":\"\"},\"caxis\":{\"gridcolor\":\"white\",\"linecolor\":\"white\",\"ticks\":\"\"}},\"coloraxis\":{\"colorbar\":{\"outlinewidth\":0,\"ticks\":\"\"}},\"colorscale\":{\"sequential\":[[0.0,\"#0d0887\"],[0.1111111111111111,\"#46039f\"],[0.2222222222222222,\"#7201a8\"],[0.3333333333333333,\"#9c179e\"],[0.4444444444444444,\"#bd3786\"],[0.5555555555555556,\"#d8576b\"],[0.6666666666666666,\"#ed7953\"],[0.7777777777777778,\"#fb9f3a\"],[0.8888888888888888,\"#fdca26\"],[1.0,\"#f0f921\"]],\"sequentialminus\":[[0.0,\"#0d0887\"],[0.1111111111111111,\"#46039f\"],[0.2222222222222222,\"#7201a8\"],[0.3333333333333333,\"#9c179e\"],[0.4444444444444444,\"#bd3786\"],[0.5555555555555556,\"#d8576b\"],[0.6666666666666666,\"#ed7953\"],[0.7777777777777778,\"#fb9f3a\"],[0.8888888888888888,\"#fdca26\"],[1.0,\"#f0f921\"]],\"diverging\":[[0,\"#8e0152\"],[0.1,\"#c51b7d\"],[0.2,\"#de77ae\"],[0.3,\"#f1b6da\"],[0.4,\"#fde0ef\"],[0.5,\"#f7f7f7\"],[0.6,\"#e6f5d0\"],[0.7,\"#b8e186\"],[0.8,\"#7fbc41\"],[0.9,\"#4d9221\"],[1,\"#276419\"]]},\"xaxis\":{\"gridcolor\":\"white\",\"linecolor\":\"white\",\"ticks\":\"\",\"title\":{\"standoff\":15},\"zerolinecolor\":\"white\",\"automargin\":true,\"zerolinewidth\":2},\"yaxis\":{\"gridcolor\":\"white\",\"linecolor\":\"white\",\"ticks\":\"\",\"title\":{\"standoff\":15},\"zerolinecolor\":\"white\",\"automargin\":true,\"zerolinewidth\":2},\"scene\":{\"xaxis\":{\"backgroundcolor\":\"#E5ECF6\",\"gridcolor\":\"white\",\"linecolor\":\"white\",\"showbackground\":true,\"ticks\":\"\",\"zerolinecolor\":\"white\",\"gridwidth\":2},\"yaxis\":{\"backgroundcolor\":\"#E5ECF6\",\"gridcolor\":\"white\",\"linecolor\":\"white\",\"showbackground\":true,\"ticks\":\"\",\"zerolinecolor\":\"white\",\"gridwidth\":2},\"zaxis\":{\"backgroundcolor\":\"#E5ECF6\",\"gridcolor\":\"white\",\"linecolor\":\"white\",\"showbackground\":true,\"ticks\":\"\",\"zerolinecolor\":\"white\",\"gridwidth\":2}},\"shapedefaults\":{\"line\":{\"color\":\"#2a3f5f\"}},\"annotationdefaults\":{\"arrowcolor\":\"#2a3f5f\",\"arrowhead\":0,\"arrowwidth\":1},\"geo\":{\"bgcolor\":\"white\",\"landcolor\":\"#E5ECF6\",\"subunitcolor\":\"white\",\"showland\":true,\"showlakes\":true,\"lakecolor\":\"white\"},\"title\":{\"x\":0.05},\"mapbox\":{\"style\":\"light\"}}}},                        {\"responsive\": true}                    ).then(function(){\n",
              "                            \n",
              "var gd = document.getElementById('4c9a26bc-0b1c-4da8-af43-6210518c0994');\n",
              "var x = new MutationObserver(function (mutations, observer) {{\n",
              "        var display = window.getComputedStyle(gd).display;\n",
              "        if (!display || display === 'none') {{\n",
              "            console.log([gd, 'removed!']);\n",
              "            Plotly.purge(gd);\n",
              "            observer.disconnect();\n",
              "        }}\n",
              "}});\n",
              "\n",
              "// Listen for the removal of the full notebook cells\n",
              "var notebookContainer = gd.closest('#notebook-container');\n",
              "if (notebookContainer) {{\n",
              "    x.observe(notebookContainer, {childList: true});\n",
              "}}\n",
              "\n",
              "// Listen for the clearing of the current output cell\n",
              "var outputEl = gd.closest('.output');\n",
              "if (outputEl) {{\n",
              "    x.observe(outputEl, {childList: true});\n",
              "}}\n",
              "\n",
              "                        })                };                            </script>        </div>\n",
              "</body>\n",
              "</html>"
            ]
          },
          "metadata": {}
        },
        {
          "output_type": "display_data",
          "data": {
            "text/html": [
              "<html>\n",
              "<head><meta charset=\"utf-8\" /></head>\n",
              "<body>\n",
              "    <div>            <script src=\"https://cdnjs.cloudflare.com/ajax/libs/mathjax/2.7.5/MathJax.js?config=TeX-AMS-MML_SVG\"></script><script type=\"text/javascript\">if (window.MathJax && window.MathJax.Hub && window.MathJax.Hub.Config) {window.MathJax.Hub.Config({SVG: {font: \"STIX-Web\"}});}</script>                <script type=\"text/javascript\">window.PlotlyConfig = {MathJaxConfig: 'local'};</script>\n",
              "        <script charset=\"utf-8\" src=\"https://cdn.plot.ly/plotly-2.35.2.min.js\"></script>                <div id=\"973895a7-abc6-4739-a0c3-1bd877fab914\" class=\"plotly-graph-div\" style=\"height:525px; width:100%;\"></div>            <script type=\"text/javascript\">                                    window.PLOTLYENV=window.PLOTLYENV || {};                                    if (document.getElementById(\"973895a7-abc6-4739-a0c3-1bd877fab914\")) {                    Plotly.newPlot(                        \"973895a7-abc6-4739-a0c3-1bd877fab914\",                        [{\"cliponaxis\":false,\"hovertemplate\":[\"num_layers (IntDistribution): 0.0049710269707893\\u003cextra\\u003e\\u003c\\u002fextra\\u003e\",\"epochs (IntDistribution): 0.013061571021246318\\u003cextra\\u003e\\u003c\\u002fextra\\u003e\",\"dropout_rate (FloatDistribution): 0.05061383513019652\\u003cextra\\u003e\\u003c\\u002fextra\\u003e\",\"batch_size (CategoricalDistribution): 0.05673824015635109\\u003cextra\\u003e\\u003c\\u002fextra\\u003e\",\"hidden_0 (IntDistribution): 0.0816562109307488\\u003cextra\\u003e\\u003c\\u002fextra\\u003e\",\"latent_dim (IntDistribution): 0.09529786563344485\\u003cextra\\u003e\\u003c\\u002fextra\\u003e\",\"learning_rate (FloatDistribution): 0.697661250157223\\u003cextra\\u003e\\u003c\\u002fextra\\u003e\"],\"name\":\"Objective Value\",\"orientation\":\"h\",\"text\":[\"\\u003c0.01\",\"0.01\",\"0.05\",\"0.06\",\"0.08\",\"0.10\",\"0.70\"],\"textposition\":\"outside\",\"x\":[0.0049710269707893,0.013061571021246318,0.05061383513019652,0.05673824015635109,0.0816562109307488,0.09529786563344485,0.697661250157223],\"y\":[\"num_layers\",\"epochs\",\"dropout_rate\",\"batch_size\",\"hidden_0\",\"latent_dim\",\"learning_rate\"],\"type\":\"bar\"}],                        {\"title\":{\"text\":\"Hyperparameter Importances\"},\"xaxis\":{\"title\":{\"text\":\"Hyperparameter Importance\"}},\"yaxis\":{\"title\":{\"text\":\"Hyperparameter\"}},\"template\":{\"data\":{\"histogram2dcontour\":[{\"type\":\"histogram2dcontour\",\"colorbar\":{\"outlinewidth\":0,\"ticks\":\"\"},\"colorscale\":[[0.0,\"#0d0887\"],[0.1111111111111111,\"#46039f\"],[0.2222222222222222,\"#7201a8\"],[0.3333333333333333,\"#9c179e\"],[0.4444444444444444,\"#bd3786\"],[0.5555555555555556,\"#d8576b\"],[0.6666666666666666,\"#ed7953\"],[0.7777777777777778,\"#fb9f3a\"],[0.8888888888888888,\"#fdca26\"],[1.0,\"#f0f921\"]]}],\"choropleth\":[{\"type\":\"choropleth\",\"colorbar\":{\"outlinewidth\":0,\"ticks\":\"\"}}],\"histogram2d\":[{\"type\":\"histogram2d\",\"colorbar\":{\"outlinewidth\":0,\"ticks\":\"\"},\"colorscale\":[[0.0,\"#0d0887\"],[0.1111111111111111,\"#46039f\"],[0.2222222222222222,\"#7201a8\"],[0.3333333333333333,\"#9c179e\"],[0.4444444444444444,\"#bd3786\"],[0.5555555555555556,\"#d8576b\"],[0.6666666666666666,\"#ed7953\"],[0.7777777777777778,\"#fb9f3a\"],[0.8888888888888888,\"#fdca26\"],[1.0,\"#f0f921\"]]}],\"heatmap\":[{\"type\":\"heatmap\",\"colorbar\":{\"outlinewidth\":0,\"ticks\":\"\"},\"colorscale\":[[0.0,\"#0d0887\"],[0.1111111111111111,\"#46039f\"],[0.2222222222222222,\"#7201a8\"],[0.3333333333333333,\"#9c179e\"],[0.4444444444444444,\"#bd3786\"],[0.5555555555555556,\"#d8576b\"],[0.6666666666666666,\"#ed7953\"],[0.7777777777777778,\"#fb9f3a\"],[0.8888888888888888,\"#fdca26\"],[1.0,\"#f0f921\"]]}],\"heatmapgl\":[{\"type\":\"heatmapgl\",\"colorbar\":{\"outlinewidth\":0,\"ticks\":\"\"},\"colorscale\":[[0.0,\"#0d0887\"],[0.1111111111111111,\"#46039f\"],[0.2222222222222222,\"#7201a8\"],[0.3333333333333333,\"#9c179e\"],[0.4444444444444444,\"#bd3786\"],[0.5555555555555556,\"#d8576b\"],[0.6666666666666666,\"#ed7953\"],[0.7777777777777778,\"#fb9f3a\"],[0.8888888888888888,\"#fdca26\"],[1.0,\"#f0f921\"]]}],\"contourcarpet\":[{\"type\":\"contourcarpet\",\"colorbar\":{\"outlinewidth\":0,\"ticks\":\"\"}}],\"contour\":[{\"type\":\"contour\",\"colorbar\":{\"outlinewidth\":0,\"ticks\":\"\"},\"colorscale\":[[0.0,\"#0d0887\"],[0.1111111111111111,\"#46039f\"],[0.2222222222222222,\"#7201a8\"],[0.3333333333333333,\"#9c179e\"],[0.4444444444444444,\"#bd3786\"],[0.5555555555555556,\"#d8576b\"],[0.6666666666666666,\"#ed7953\"],[0.7777777777777778,\"#fb9f3a\"],[0.8888888888888888,\"#fdca26\"],[1.0,\"#f0f921\"]]}],\"surface\":[{\"type\":\"surface\",\"colorbar\":{\"outlinewidth\":0,\"ticks\":\"\"},\"colorscale\":[[0.0,\"#0d0887\"],[0.1111111111111111,\"#46039f\"],[0.2222222222222222,\"#7201a8\"],[0.3333333333333333,\"#9c179e\"],[0.4444444444444444,\"#bd3786\"],[0.5555555555555556,\"#d8576b\"],[0.6666666666666666,\"#ed7953\"],[0.7777777777777778,\"#fb9f3a\"],[0.8888888888888888,\"#fdca26\"],[1.0,\"#f0f921\"]]}],\"mesh3d\":[{\"type\":\"mesh3d\",\"colorbar\":{\"outlinewidth\":0,\"ticks\":\"\"}}],\"scatter\":[{\"fillpattern\":{\"fillmode\":\"overlay\",\"size\":10,\"solidity\":0.2},\"type\":\"scatter\"}],\"parcoords\":[{\"type\":\"parcoords\",\"line\":{\"colorbar\":{\"outlinewidth\":0,\"ticks\":\"\"}}}],\"scatterpolargl\":[{\"type\":\"scatterpolargl\",\"marker\":{\"colorbar\":{\"outlinewidth\":0,\"ticks\":\"\"}}}],\"bar\":[{\"error_x\":{\"color\":\"#2a3f5f\"},\"error_y\":{\"color\":\"#2a3f5f\"},\"marker\":{\"line\":{\"color\":\"#E5ECF6\",\"width\":0.5},\"pattern\":{\"fillmode\":\"overlay\",\"size\":10,\"solidity\":0.2}},\"type\":\"bar\"}],\"scattergeo\":[{\"type\":\"scattergeo\",\"marker\":{\"colorbar\":{\"outlinewidth\":0,\"ticks\":\"\"}}}],\"scatterpolar\":[{\"type\":\"scatterpolar\",\"marker\":{\"colorbar\":{\"outlinewidth\":0,\"ticks\":\"\"}}}],\"histogram\":[{\"marker\":{\"pattern\":{\"fillmode\":\"overlay\",\"size\":10,\"solidity\":0.2}},\"type\":\"histogram\"}],\"scattergl\":[{\"type\":\"scattergl\",\"marker\":{\"colorbar\":{\"outlinewidth\":0,\"ticks\":\"\"}}}],\"scatter3d\":[{\"type\":\"scatter3d\",\"line\":{\"colorbar\":{\"outlinewidth\":0,\"ticks\":\"\"}},\"marker\":{\"colorbar\":{\"outlinewidth\":0,\"ticks\":\"\"}}}],\"scattermapbox\":[{\"type\":\"scattermapbox\",\"marker\":{\"colorbar\":{\"outlinewidth\":0,\"ticks\":\"\"}}}],\"scatterternary\":[{\"type\":\"scatterternary\",\"marker\":{\"colorbar\":{\"outlinewidth\":0,\"ticks\":\"\"}}}],\"scattercarpet\":[{\"type\":\"scattercarpet\",\"marker\":{\"colorbar\":{\"outlinewidth\":0,\"ticks\":\"\"}}}],\"carpet\":[{\"aaxis\":{\"endlinecolor\":\"#2a3f5f\",\"gridcolor\":\"white\",\"linecolor\":\"white\",\"minorgridcolor\":\"white\",\"startlinecolor\":\"#2a3f5f\"},\"baxis\":{\"endlinecolor\":\"#2a3f5f\",\"gridcolor\":\"white\",\"linecolor\":\"white\",\"minorgridcolor\":\"white\",\"startlinecolor\":\"#2a3f5f\"},\"type\":\"carpet\"}],\"table\":[{\"cells\":{\"fill\":{\"color\":\"#EBF0F8\"},\"line\":{\"color\":\"white\"}},\"header\":{\"fill\":{\"color\":\"#C8D4E3\"},\"line\":{\"color\":\"white\"}},\"type\":\"table\"}],\"barpolar\":[{\"marker\":{\"line\":{\"color\":\"#E5ECF6\",\"width\":0.5},\"pattern\":{\"fillmode\":\"overlay\",\"size\":10,\"solidity\":0.2}},\"type\":\"barpolar\"}],\"pie\":[{\"automargin\":true,\"type\":\"pie\"}]},\"layout\":{\"autotypenumbers\":\"strict\",\"colorway\":[\"#636efa\",\"#EF553B\",\"#00cc96\",\"#ab63fa\",\"#FFA15A\",\"#19d3f3\",\"#FF6692\",\"#B6E880\",\"#FF97FF\",\"#FECB52\"],\"font\":{\"color\":\"#2a3f5f\"},\"hovermode\":\"closest\",\"hoverlabel\":{\"align\":\"left\"},\"paper_bgcolor\":\"white\",\"plot_bgcolor\":\"#E5ECF6\",\"polar\":{\"bgcolor\":\"#E5ECF6\",\"angularaxis\":{\"gridcolor\":\"white\",\"linecolor\":\"white\",\"ticks\":\"\"},\"radialaxis\":{\"gridcolor\":\"white\",\"linecolor\":\"white\",\"ticks\":\"\"}},\"ternary\":{\"bgcolor\":\"#E5ECF6\",\"aaxis\":{\"gridcolor\":\"white\",\"linecolor\":\"white\",\"ticks\":\"\"},\"baxis\":{\"gridcolor\":\"white\",\"linecolor\":\"white\",\"ticks\":\"\"},\"caxis\":{\"gridcolor\":\"white\",\"linecolor\":\"white\",\"ticks\":\"\"}},\"coloraxis\":{\"colorbar\":{\"outlinewidth\":0,\"ticks\":\"\"}},\"colorscale\":{\"sequential\":[[0.0,\"#0d0887\"],[0.1111111111111111,\"#46039f\"],[0.2222222222222222,\"#7201a8\"],[0.3333333333333333,\"#9c179e\"],[0.4444444444444444,\"#bd3786\"],[0.5555555555555556,\"#d8576b\"],[0.6666666666666666,\"#ed7953\"],[0.7777777777777778,\"#fb9f3a\"],[0.8888888888888888,\"#fdca26\"],[1.0,\"#f0f921\"]],\"sequentialminus\":[[0.0,\"#0d0887\"],[0.1111111111111111,\"#46039f\"],[0.2222222222222222,\"#7201a8\"],[0.3333333333333333,\"#9c179e\"],[0.4444444444444444,\"#bd3786\"],[0.5555555555555556,\"#d8576b\"],[0.6666666666666666,\"#ed7953\"],[0.7777777777777778,\"#fb9f3a\"],[0.8888888888888888,\"#fdca26\"],[1.0,\"#f0f921\"]],\"diverging\":[[0,\"#8e0152\"],[0.1,\"#c51b7d\"],[0.2,\"#de77ae\"],[0.3,\"#f1b6da\"],[0.4,\"#fde0ef\"],[0.5,\"#f7f7f7\"],[0.6,\"#e6f5d0\"],[0.7,\"#b8e186\"],[0.8,\"#7fbc41\"],[0.9,\"#4d9221\"],[1,\"#276419\"]]},\"xaxis\":{\"gridcolor\":\"white\",\"linecolor\":\"white\",\"ticks\":\"\",\"title\":{\"standoff\":15},\"zerolinecolor\":\"white\",\"automargin\":true,\"zerolinewidth\":2},\"yaxis\":{\"gridcolor\":\"white\",\"linecolor\":\"white\",\"ticks\":\"\",\"title\":{\"standoff\":15},\"zerolinecolor\":\"white\",\"automargin\":true,\"zerolinewidth\":2},\"scene\":{\"xaxis\":{\"backgroundcolor\":\"#E5ECF6\",\"gridcolor\":\"white\",\"linecolor\":\"white\",\"showbackground\":true,\"ticks\":\"\",\"zerolinecolor\":\"white\",\"gridwidth\":2},\"yaxis\":{\"backgroundcolor\":\"#E5ECF6\",\"gridcolor\":\"white\",\"linecolor\":\"white\",\"showbackground\":true,\"ticks\":\"\",\"zerolinecolor\":\"white\",\"gridwidth\":2},\"zaxis\":{\"backgroundcolor\":\"#E5ECF6\",\"gridcolor\":\"white\",\"linecolor\":\"white\",\"showbackground\":true,\"ticks\":\"\",\"zerolinecolor\":\"white\",\"gridwidth\":2}},\"shapedefaults\":{\"line\":{\"color\":\"#2a3f5f\"}},\"annotationdefaults\":{\"arrowcolor\":\"#2a3f5f\",\"arrowhead\":0,\"arrowwidth\":1},\"geo\":{\"bgcolor\":\"white\",\"landcolor\":\"#E5ECF6\",\"subunitcolor\":\"white\",\"showland\":true,\"showlakes\":true,\"lakecolor\":\"white\"},\"title\":{\"x\":0.05},\"mapbox\":{\"style\":\"light\"}}}},                        {\"responsive\": true}                    ).then(function(){\n",
              "                            \n",
              "var gd = document.getElementById('973895a7-abc6-4739-a0c3-1bd877fab914');\n",
              "var x = new MutationObserver(function (mutations, observer) {{\n",
              "        var display = window.getComputedStyle(gd).display;\n",
              "        if (!display || display === 'none') {{\n",
              "            console.log([gd, 'removed!']);\n",
              "            Plotly.purge(gd);\n",
              "            observer.disconnect();\n",
              "        }}\n",
              "}});\n",
              "\n",
              "// Listen for the removal of the full notebook cells\n",
              "var notebookContainer = gd.closest('#notebook-container');\n",
              "if (notebookContainer) {{\n",
              "    x.observe(notebookContainer, {childList: true});\n",
              "}}\n",
              "\n",
              "// Listen for the clearing of the current output cell\n",
              "var outputEl = gd.closest('.output');\n",
              "if (outputEl) {{\n",
              "    x.observe(outputEl, {childList: true});\n",
              "}}\n",
              "\n",
              "                        })                };                            </script>        </div>\n",
              "</body>\n",
              "</html>"
            ]
          },
          "metadata": {}
        }
      ]
    },
    {
      "cell_type": "code",
      "source": [
        "best_params = {\n",
        "    'latent_dim': 3,\n",
        "    'num_layers': 1,\n",
        "    'hidden_units': [48],\n",
        "    'batch_size': 128,\n",
        "    'learning_rate': 0.00012234213687243047,\n",
        "    'dropout_rate': 0.1,\n",
        "    'epochs': 80\n",
        "}\n"
      ],
      "metadata": {
        "id": "b0ZhIGVheWiz"
      },
      "execution_count": 16,
      "outputs": []
    },
    {
      "cell_type": "code",
      "source": [
        "train_loader = DataLoader(train_data, batch_size=best_params['batch_size'], shuffle=True)\n",
        "test_loader = DataLoader(test_data, batch_size=best_params['batch_size'], shuffle=False)"
      ],
      "metadata": {
        "id": "oTY1xmzTeke4"
      },
      "execution_count": 17,
      "outputs": []
    },
    {
      "cell_type": "code",
      "source": [
        "input_dim = train_data.shape[1]\n",
        "model = VAE(input_dim, best_params['latent_dim'], best_params['hidden_units'], best_params['dropout_rate']).to(device)\n",
        "optimizer = optim.Adam(model.parameters(), lr=best_params['learning_rate'])"
      ],
      "metadata": {
        "id": "5V9fq49qelMx"
      },
      "execution_count": 18,
      "outputs": []
    },
    {
      "cell_type": "code",
      "source": [
        "for epoch in range(best_params['epochs']):\n",
        "    model.train()\n",
        "    train_loss = 0\n",
        "    for batch in train_loader:\n",
        "        batch = batch.to(device)\n",
        "        optimizer.zero_grad()\n",
        "        recon_batch, mu, logvar = model(batch)\n",
        "        loss = vae_loss_function(recon_batch, batch, mu, logvar)\n",
        "        loss.backward()\n",
        "        train_loss += loss.item()\n",
        "        optimizer.step()"
      ],
      "metadata": {
        "id": "O85dShNXesqk"
      },
      "execution_count": 19,
      "outputs": []
    },
    {
      "cell_type": "code",
      "source": [
        "model.eval()\n",
        "reconstruction_errors = []\n",
        "\n",
        "with torch.no_grad():\n",
        "    for batch in test_loader:\n",
        "        batch = batch.to(device)\n",
        "        recon_batch, mu, logvar = model(batch)\n",
        "        error = torch.mean((batch - recon_batch) ** 2, dim=1)  # MSE per sample\n",
        "        reconstruction_errors.extend(error.cpu().numpy())\n",
        "\n",
        "# Convert to numpy\n",
        "reconstruction_errors = np.array(reconstruction_errors)"
      ],
      "metadata": {
        "id": "ar3OM45De0ua"
      },
      "execution_count": 20,
      "outputs": []
    },
    {
      "cell_type": "code",
      "source": [],
      "metadata": {
        "id": "X74kJwswgIcH"
      },
      "execution_count": null,
      "outputs": []
    },
    {
      "cell_type": "code",
      "source": [
        "reconstruction_errors"
      ],
      "metadata": {
        "colab": {
          "base_uri": "https://localhost:8080/"
        },
        "id": "ZNzsCg-pgH7w",
        "outputId": "1fe8209d-ce3d-455e-cd3d-cc7dd2366c2f"
      },
      "execution_count": 21,
      "outputs": [
        {
          "output_type": "execute_result",
          "data": {
            "text/plain": [
              "array([0.19982538, 0.20390469, 0.37022972, ..., 0.37035823, 0.3730516 ,\n",
              "       0.43214378], dtype=float32)"
            ]
          },
          "metadata": {},
          "execution_count": 21
        }
      ]
    },
    {
      "cell_type": "code",
      "source": [
        "reconstruction_errors"
      ],
      "metadata": {
        "id": "gPMfPt1HgHyU"
      },
      "execution_count": null,
      "outputs": []
    },
    {
      "cell_type": "code",
      "source": [
        "\n",
        "if isinstance(reconstruction_errors, torch.Tensor):\n",
        "    reconstruction_errors = reconstruction_errors.detach().cpu().numpy()\n"
      ],
      "metadata": {
        "id": "CEdhOWphjHj_"
      },
      "execution_count": 25,
      "outputs": []
    },
    {
      "cell_type": "code",
      "source": [
        "\n",
        "threshold = np.percentile(reconstruction_errors, 95)  # Top 5% as anomalies\n",
        "\n",
        "\n"
      ],
      "metadata": {
        "id": "HEGKz5tT7BL6"
      },
      "execution_count": 26,
      "outputs": []
    },
    {
      "cell_type": "code",
      "source": [
        "\n",
        "threshold = reconstruction_errors.mean() + 3 * reconstruction_errors.std()\n",
        "anomalies = reconstruction_errors > threshold\n"
      ],
      "metadata": {
        "id": "_i8ru3f4iuMZ"
      },
      "execution_count": 28,
      "outputs": []
    },
    {
      "cell_type": "code",
      "source": [
        "anomalies"
      ],
      "metadata": {
        "colab": {
          "base_uri": "https://localhost:8080/"
        },
        "id": "64a6gAlmjK-O",
        "outputId": "feb29372-8b95-468a-f9b2-4b419d4a9ae6"
      },
      "execution_count": 29,
      "outputs": [
        {
          "output_type": "execute_result",
          "data": {
            "text/plain": [
              "array([False, False, False, ..., False, False,  True])"
            ]
          },
          "metadata": {},
          "execution_count": 29
        }
      ]
    },
    {
      "cell_type": "code",
      "source": [
        "print(f\"Threshold: {threshold}\")\n",
        "print(f\"Number of anomalies detected: {np.sum(anomalies)} / {len(reconstruction_errors)}\")"
      ],
      "metadata": {
        "colab": {
          "base_uri": "https://localhost:8080/"
        },
        "id": "gWUG4NiAjVYq",
        "outputId": "cd968ea4-5601-40ac-dfcf-3154e97b9b64"
      },
      "execution_count": 30,
      "outputs": [
        {
          "output_type": "stream",
          "name": "stdout",
          "text": [
            "Threshold: 0.3843795657157898\n",
            "Number of anomalies detected: 990 / 19749\n"
          ]
        }
      ]
    },
    {
      "cell_type": "code",
      "source": [
        "print(type(reconstructed))\n"
      ],
      "metadata": {
        "colab": {
          "base_uri": "https://localhost:8080/"
        },
        "id": "j91r1A66jtBT",
        "outputId": "e11a8613-4cdc-4129-dbf8-bb627e25aeea"
      },
      "execution_count": 32,
      "outputs": [
        {
          "output_type": "stream",
          "name": "stdout",
          "text": [
            "<class 'tuple'>\n"
          ]
        }
      ]
    },
    {
      "cell_type": "code",
      "source": [
        "\n",
        "if isinstance(reconstructed, tuple):\n",
        "    reconstructed = reconstructed[0]  # or the appropriate index"
      ],
      "metadata": {
        "id": "CjkdWEmsjv8o"
      },
      "execution_count": 33,
      "outputs": []
    },
    {
      "cell_type": "code",
      "source": [
        "print(type(reconstructed))"
      ],
      "metadata": {
        "colab": {
          "base_uri": "https://localhost:8080/"
        },
        "id": "OGQzxi_Sjwpz",
        "outputId": "0352534f-186f-4b2f-b076-2dd9d74bbdfa"
      },
      "execution_count": 34,
      "outputs": [
        {
          "output_type": "stream",
          "name": "stdout",
          "text": [
            "<class 'torch.Tensor'>\n"
          ]
        }
      ]
    },
    {
      "cell_type": "code",
      "source": [
        "test_data"
      ],
      "metadata": {
        "colab": {
          "base_uri": "https://localhost:8080/"
        },
        "id": "Cv_PDSFfjz-D",
        "outputId": "d6737cf0-e220-4a18-9f7a-c89cd0c4b486"
      },
      "execution_count": 36,
      "outputs": [
        {
          "output_type": "execute_result",
          "data": {
            "text/plain": [
              "tensor([[0.1369, 0.1912, 0.1982,  ..., 0.2459, 0.7010, 0.6046],\n",
              "        [0.2200, 0.2246, 0.2128,  ..., 0.2270, 0.6064, 0.4745],\n",
              "        [0.2214, 0.2218, 0.2144,  ..., 0.1240, 0.2932, 0.1403],\n",
              "        ...,\n",
              "        [0.2622, 0.2630, 0.2524,  ..., 0.1146, 0.2613, 0.0932],\n",
              "        [0.2625, 0.2614, 0.2507,  ..., 0.1146, 0.2552, 0.0888],\n",
              "        [0.1263, 0.1138, 0.1334,  ..., 0.1146, 0.2633, 0.1314]],\n",
              "       device='cuda:0')"
            ]
          },
          "metadata": {},
          "execution_count": 36
        }
      ]
    },
    {
      "cell_type": "code",
      "source": [
        "faulty_components = torch.abs(reconstructed - test_data.to(device)).mean(dim=0)\n"
      ],
      "metadata": {
        "id": "_obmS9DXjZ0P"
      },
      "execution_count": 38,
      "outputs": []
    },
    {
      "cell_type": "code",
      "source": [
        "faulty_components"
      ],
      "metadata": {
        "colab": {
          "base_uri": "https://localhost:8080/"
        },
        "id": "duPrLHFUj6Vs",
        "outputId": "c6a4f4a6-41ff-46d7-df2e-d56506d693e3"
      },
      "execution_count": 39,
      "outputs": [
        {
          "output_type": "execute_result",
          "data": {
            "text/plain": [
              "tensor([0.1147, 0.1149, 0.1146, 0.0989, 0.1619, 0.0687, 0.1252, 0.1268],\n",
              "       device='cuda:0')"
            ]
          },
          "metadata": {},
          "execution_count": 39
        }
      ]
    },
    {
      "cell_type": "code",
      "source": [
        "print(type(anomalies))"
      ],
      "metadata": {
        "colab": {
          "base_uri": "https://localhost:8080/"
        },
        "id": "HRke79FfkE8A",
        "outputId": "2681a712-3760-480a-ebb0-f7d984544844"
      },
      "execution_count": 40,
      "outputs": [
        {
          "output_type": "stream",
          "name": "stdout",
          "text": [
            "<class 'numpy.ndarray'>\n"
          ]
        }
      ]
    },
    {
      "cell_type": "code",
      "source": [
        "anomalous_indices = anomalies.nonzero()[0]\n",
        "print(\"Anomalous Samples:\", anomalous_indices)"
      ],
      "metadata": {
        "colab": {
          "base_uri": "https://localhost:8080/"
        },
        "id": "FUfT8TkikP-S",
        "outputId": "b1361a54-a669-46f5-d5fe-4017d335ef61"
      },
      "execution_count": 45,
      "outputs": [
        {
          "output_type": "stream",
          "name": "stdout",
          "text": [
            "Anomalous Samples: [    3     4     5  1135  1136  1137  1138  1139  1140  1141  1142  1143\n",
            "  1144  1145  1146  1147  1148  1149  1150  1151  1152  1153  1154  1155\n",
            "  1156  1157  1158  1159  1160  1161  1162  1163  1164  1165  1166  1167\n",
            "  1168  1169  1170  1171  1172  1173  1174  1175  1176  1177  1178  1179\n",
            "  1180  1181  1182  1183  1184  1185  1186  1187  1188  1189  1190  1191\n",
            "  1192  1193  1194  1195  1196  1197  1198  1199  1200  1201  1202  1203\n",
            "  1204  1205  1206  1207  1208  1209  1210  1211  1212  1213  1214  1215\n",
            "  1216  1217  1218  1219  1220  1221  1222  1223  1224  1225  1226  1227\n",
            "  1228  1229  1230  1231  1232  1233  1234  1235  1236  1237  1238  1239\n",
            "  1240  1241  1242  1243  1244  1245  1246  1247  1248  1249  1250  1251\n",
            "  1252  1253  1254  1255  1256  1257  1258  1259  1260  1261  1262  1263\n",
            "  1264  1265  1266  1267  1268  1269  1270  1271  1272  1273  1274  1275\n",
            "  1276  1277  1278  1279  1280  1281  1282  1283  1284  1285  1286  1287\n",
            "  1288  1289  1290  1291  1292  1293  1294  1295  1296  1297  1298  1299\n",
            "  1300  1301  1302  1303  1304  1305  1306  1307  1308  1309  1310  1311\n",
            "  1312  1313  1314  1315  1316  1317  1318  1319  1320  1321  1322  1323\n",
            "  1324  1325  1326  1327  1328  1329  1330  1331  1332  1333  1334  1335\n",
            "  1336  1337  1338  1339  1340  1341  1342  1343  1344  1345  1346  1347\n",
            "  1348  1349  1350  1351  1352  1353  1354  1355  1356  1357  1358  1359\n",
            "  1360  1361  1362  1363  1364  1365  1366  1367  1368  1369  1370  1371\n",
            "  1372  1373  1374  1375  1376  1377  1378  1379  4820  4821  4822  4823\n",
            "  4824  4825  4826  4827  4828  4829  4830  4831  4832  4833  4834  4835\n",
            "  4836  4837  4838  4839  4840  4841  4842  4843  4844  4845  4846  4847\n",
            "  4848  4849  4850  4851  4852  4853  4854  4855  4856  4857  4858  4859\n",
            "  4860  4861  4862  4863  4864  4865  4866  4867  4868  4869  4870  4871\n",
            "  4872  4873  4874  4875  4876  4877  4878  4879  4880  4881  4882  4883\n",
            "  4884  4885  4886  4887  4888  4889  4890  4891  4892  4893  4894  4895\n",
            "  4896  4897  4898  4899  4900  4901  4902  4903  4904  4905  4906  4907\n",
            "  4908  4909  4910  4911  4912  4913  4914  4915  4916  4917  4918  4919\n",
            "  4920  4921  4922  4923  4924  4925  4926  4927  4928  4929  4930  4931\n",
            "  4932  4933  4934  4935  4936  4937  4938  4939  4940  4941  4942  4943\n",
            "  4944  4945  4946  4947  4948  4949  4950  4951  4952  4953  4954  4955\n",
            "  4956  4957  4958  4959  4960  4961  4962  4963  4964  4965  4966  4967\n",
            "  4968  4969  4970  4971  4972  4973  4974  4975  4976  4977  4978  4979\n",
            "  4980  4981  4982  4983  4984  4985  4986  4987  4988  4989  4990  4991\n",
            "  4992  4993  4994  4995  4996  4997  4998  4999  5000  5001  5002  5003\n",
            "  5004  5005  5006  5007  5008  5009  5010  5011  5012  5013  5014  5015\n",
            "  5016  5017  5018  5019  5020  5021  5022  5023  5024 11331 11332 11333\n",
            " 11334 11335 11336 11337 11338 11339 11340 11341 11342 11343 11344 11345\n",
            " 11346 11347 11348 11349 11350 11351 11352 11353 11354 11355 11356 11357\n",
            " 11358 11359 11360 11361 11362 11363 11364 11365 11366 11367 11368 11369\n",
            " 11370 11371 11372 11373 11374 11375 11376 11377 11378 11379 11380 11381\n",
            " 11382 11383 11384 11385 11386 11387 11388 11389 11390 11391 11392 11393\n",
            " 11394 11395 11396 11397 11398 11399 11400 11401 11402 11403 11404 11405\n",
            " 11406 11407 11408 11409 11410 11411 11412 11413 11414 11415 11416 11417\n",
            " 11418 11419 11420 11421 11422 11423 11424 11425 11426 11427 11428 11429\n",
            " 11430 11431 11432 11433 11434 11435 11436 11437 11438 11439 11440 11441\n",
            " 11442 11443 11444 11445 11446 11447 11448 11449 11450 11451 11452 11453\n",
            " 11454 11455 11456 11457 11458 11459 11460 11461 11462 11463 11464 11465\n",
            " 11466 11467 11468 11469 11470 11471 11472 11473 11474 11475 11476 11477\n",
            " 11478 11479 11480 11481 11482 11483 11484 11485 11486 11487 11488 11489\n",
            " 11490 11491 11492 11493 11494 11495 11496 11497 11502 11503 11504 11505\n",
            " 11506 11507 11508 11509 11510 11511 11512 11513 12735 12736 12737 12738\n",
            " 12739 12740 12741 12742 12743 12744 12745 12746 12747 12748 12749 12750\n",
            " 12751 12752 12753 12754 12755 12756 12757 12758 12759 12760 12761 12762\n",
            " 12763 12764 12765 12766 12767 12768 12769 12770 12771 12772 12773 12774\n",
            " 12775 12776 12777 12778 12779 12780 12781 12782 12783 12784 12785 12786\n",
            " 12787 12788 12789 12790 12791 12792 12793 12794 12795 12796 12797 12798\n",
            " 12799 12800 12801 12802 12803 12804 12805 12806 12807 12808 12809 12810\n",
            " 12811 12812 12813 12814 12815 12816 12817 12818 12819 12820 12821 12822\n",
            " 12823 12824 12825 12826 12827 12828 12829 12830 12831 12832 12833 12834\n",
            " 12835 12836 12837 12838 12839 12840 12841 12842 12843 12844 12845 12846\n",
            " 12847 12848 12849 12850 12851 12852 12853 12854 12855 12856 12857 12858\n",
            " 12859 12860 12861 12862 15663 15664 15665 15666 15667 15668 15669 15670\n",
            " 15671 15672 15673 15674 15675 15676 15677 15678 15679 15680 15681 15682\n",
            " 15683 15684 15685 15686 15687 15688 15689 15690 15691 15692 15693 15694\n",
            " 15695 15696 15697 15698 15699 15700 15701 15702 15703 15704 15705 15706\n",
            " 15707 15708 15709 15710 15711 15712 15713 15714 15715 15716 15717 15718\n",
            " 15719 15720 15721 15722 15723 15724 15725 15726 15727 15728 15729 15730\n",
            " 15731 15732 15733 15734 15735 15736 15737 15738 15739 15740 15741 15742\n",
            " 15743 15744 15745 15746 15747 15748 15749 15750 15751 15752 15753 15754\n",
            " 15755 15756 15757 15758 15759 15760 15761 15762 15763 15764 15765 15766\n",
            " 15767 15768 15769 15770 15771 15772 15773 15774 15775 15776 15777 15778\n",
            " 15779 15780 15781 15782 15783 15784 15785 15786 15787 15788 15789 15790\n",
            " 15791 15792 15793 15794 15795 15796 15797 15798 15799 15800 15801 15802\n",
            " 15803 15804 15805 15806 15807 15808 15809 15810 15811 15812 15813 15814\n",
            " 15815 15816 15817 15818 15819 15820 15821 15822 15823 15824 15825 15826\n",
            " 15827 15828 15829 15830 15831 15832 15833 15834 15835 15836 15837 15838\n",
            " 15839 15840 15841 15842 15843 15844 15845 15846 15847 15848 15849 15855\n",
            " 15856 15857 15858 15859 15860 15861 15862 15863 15864 15865 15866 15867\n",
            " 18691 18705 18706 18707 18708 18709 18710 18711 18712 18713 18714 18715\n",
            " 18716 18717 18718 18719 18720 18721 18722 18725 18726 18727 18728 18729\n",
            " 18730 18731 18732 18733 18742 19748]\n"
          ]
        }
      ]
    },
    {
      "cell_type": "code",
      "source": [
        "anomalous_indices = anomalies.nonzero()[0].flatten()\n"
      ],
      "metadata": {
        "id": "jb3Ei109keGL"
      },
      "execution_count": 46,
      "outputs": []
    },
    {
      "cell_type": "code",
      "source": [
        "anomalous_indices"
      ],
      "metadata": {
        "colab": {
          "base_uri": "https://localhost:8080/"
        },
        "id": "u8WflGdTkhVI",
        "outputId": "0f8767c7-46e3-4aeb-e9f9-74615b46a8c7"
      },
      "execution_count": 47,
      "outputs": [
        {
          "output_type": "execute_result",
          "data": {
            "text/plain": [
              "array([    3,     4,     5,  1135,  1136,  1137,  1138,  1139,  1140,\n",
              "        1141,  1142,  1143,  1144,  1145,  1146,  1147,  1148,  1149,\n",
              "        1150,  1151,  1152,  1153,  1154,  1155,  1156,  1157,  1158,\n",
              "        1159,  1160,  1161,  1162,  1163,  1164,  1165,  1166,  1167,\n",
              "        1168,  1169,  1170,  1171,  1172,  1173,  1174,  1175,  1176,\n",
              "        1177,  1178,  1179,  1180,  1181,  1182,  1183,  1184,  1185,\n",
              "        1186,  1187,  1188,  1189,  1190,  1191,  1192,  1193,  1194,\n",
              "        1195,  1196,  1197,  1198,  1199,  1200,  1201,  1202,  1203,\n",
              "        1204,  1205,  1206,  1207,  1208,  1209,  1210,  1211,  1212,\n",
              "        1213,  1214,  1215,  1216,  1217,  1218,  1219,  1220,  1221,\n",
              "        1222,  1223,  1224,  1225,  1226,  1227,  1228,  1229,  1230,\n",
              "        1231,  1232,  1233,  1234,  1235,  1236,  1237,  1238,  1239,\n",
              "        1240,  1241,  1242,  1243,  1244,  1245,  1246,  1247,  1248,\n",
              "        1249,  1250,  1251,  1252,  1253,  1254,  1255,  1256,  1257,\n",
              "        1258,  1259,  1260,  1261,  1262,  1263,  1264,  1265,  1266,\n",
              "        1267,  1268,  1269,  1270,  1271,  1272,  1273,  1274,  1275,\n",
              "        1276,  1277,  1278,  1279,  1280,  1281,  1282,  1283,  1284,\n",
              "        1285,  1286,  1287,  1288,  1289,  1290,  1291,  1292,  1293,\n",
              "        1294,  1295,  1296,  1297,  1298,  1299,  1300,  1301,  1302,\n",
              "        1303,  1304,  1305,  1306,  1307,  1308,  1309,  1310,  1311,\n",
              "        1312,  1313,  1314,  1315,  1316,  1317,  1318,  1319,  1320,\n",
              "        1321,  1322,  1323,  1324,  1325,  1326,  1327,  1328,  1329,\n",
              "        1330,  1331,  1332,  1333,  1334,  1335,  1336,  1337,  1338,\n",
              "        1339,  1340,  1341,  1342,  1343,  1344,  1345,  1346,  1347,\n",
              "        1348,  1349,  1350,  1351,  1352,  1353,  1354,  1355,  1356,\n",
              "        1357,  1358,  1359,  1360,  1361,  1362,  1363,  1364,  1365,\n",
              "        1366,  1367,  1368,  1369,  1370,  1371,  1372,  1373,  1374,\n",
              "        1375,  1376,  1377,  1378,  1379,  4820,  4821,  4822,  4823,\n",
              "        4824,  4825,  4826,  4827,  4828,  4829,  4830,  4831,  4832,\n",
              "        4833,  4834,  4835,  4836,  4837,  4838,  4839,  4840,  4841,\n",
              "        4842,  4843,  4844,  4845,  4846,  4847,  4848,  4849,  4850,\n",
              "        4851,  4852,  4853,  4854,  4855,  4856,  4857,  4858,  4859,\n",
              "        4860,  4861,  4862,  4863,  4864,  4865,  4866,  4867,  4868,\n",
              "        4869,  4870,  4871,  4872,  4873,  4874,  4875,  4876,  4877,\n",
              "        4878,  4879,  4880,  4881,  4882,  4883,  4884,  4885,  4886,\n",
              "        4887,  4888,  4889,  4890,  4891,  4892,  4893,  4894,  4895,\n",
              "        4896,  4897,  4898,  4899,  4900,  4901,  4902,  4903,  4904,\n",
              "        4905,  4906,  4907,  4908,  4909,  4910,  4911,  4912,  4913,\n",
              "        4914,  4915,  4916,  4917,  4918,  4919,  4920,  4921,  4922,\n",
              "        4923,  4924,  4925,  4926,  4927,  4928,  4929,  4930,  4931,\n",
              "        4932,  4933,  4934,  4935,  4936,  4937,  4938,  4939,  4940,\n",
              "        4941,  4942,  4943,  4944,  4945,  4946,  4947,  4948,  4949,\n",
              "        4950,  4951,  4952,  4953,  4954,  4955,  4956,  4957,  4958,\n",
              "        4959,  4960,  4961,  4962,  4963,  4964,  4965,  4966,  4967,\n",
              "        4968,  4969,  4970,  4971,  4972,  4973,  4974,  4975,  4976,\n",
              "        4977,  4978,  4979,  4980,  4981,  4982,  4983,  4984,  4985,\n",
              "        4986,  4987,  4988,  4989,  4990,  4991,  4992,  4993,  4994,\n",
              "        4995,  4996,  4997,  4998,  4999,  5000,  5001,  5002,  5003,\n",
              "        5004,  5005,  5006,  5007,  5008,  5009,  5010,  5011,  5012,\n",
              "        5013,  5014,  5015,  5016,  5017,  5018,  5019,  5020,  5021,\n",
              "        5022,  5023,  5024, 11331, 11332, 11333, 11334, 11335, 11336,\n",
              "       11337, 11338, 11339, 11340, 11341, 11342, 11343, 11344, 11345,\n",
              "       11346, 11347, 11348, 11349, 11350, 11351, 11352, 11353, 11354,\n",
              "       11355, 11356, 11357, 11358, 11359, 11360, 11361, 11362, 11363,\n",
              "       11364, 11365, 11366, 11367, 11368, 11369, 11370, 11371, 11372,\n",
              "       11373, 11374, 11375, 11376, 11377, 11378, 11379, 11380, 11381,\n",
              "       11382, 11383, 11384, 11385, 11386, 11387, 11388, 11389, 11390,\n",
              "       11391, 11392, 11393, 11394, 11395, 11396, 11397, 11398, 11399,\n",
              "       11400, 11401, 11402, 11403, 11404, 11405, 11406, 11407, 11408,\n",
              "       11409, 11410, 11411, 11412, 11413, 11414, 11415, 11416, 11417,\n",
              "       11418, 11419, 11420, 11421, 11422, 11423, 11424, 11425, 11426,\n",
              "       11427, 11428, 11429, 11430, 11431, 11432, 11433, 11434, 11435,\n",
              "       11436, 11437, 11438, 11439, 11440, 11441, 11442, 11443, 11444,\n",
              "       11445, 11446, 11447, 11448, 11449, 11450, 11451, 11452, 11453,\n",
              "       11454, 11455, 11456, 11457, 11458, 11459, 11460, 11461, 11462,\n",
              "       11463, 11464, 11465, 11466, 11467, 11468, 11469, 11470, 11471,\n",
              "       11472, 11473, 11474, 11475, 11476, 11477, 11478, 11479, 11480,\n",
              "       11481, 11482, 11483, 11484, 11485, 11486, 11487, 11488, 11489,\n",
              "       11490, 11491, 11492, 11493, 11494, 11495, 11496, 11497, 11502,\n",
              "       11503, 11504, 11505, 11506, 11507, 11508, 11509, 11510, 11511,\n",
              "       11512, 11513, 12735, 12736, 12737, 12738, 12739, 12740, 12741,\n",
              "       12742, 12743, 12744, 12745, 12746, 12747, 12748, 12749, 12750,\n",
              "       12751, 12752, 12753, 12754, 12755, 12756, 12757, 12758, 12759,\n",
              "       12760, 12761, 12762, 12763, 12764, 12765, 12766, 12767, 12768,\n",
              "       12769, 12770, 12771, 12772, 12773, 12774, 12775, 12776, 12777,\n",
              "       12778, 12779, 12780, 12781, 12782, 12783, 12784, 12785, 12786,\n",
              "       12787, 12788, 12789, 12790, 12791, 12792, 12793, 12794, 12795,\n",
              "       12796, 12797, 12798, 12799, 12800, 12801, 12802, 12803, 12804,\n",
              "       12805, 12806, 12807, 12808, 12809, 12810, 12811, 12812, 12813,\n",
              "       12814, 12815, 12816, 12817, 12818, 12819, 12820, 12821, 12822,\n",
              "       12823, 12824, 12825, 12826, 12827, 12828, 12829, 12830, 12831,\n",
              "       12832, 12833, 12834, 12835, 12836, 12837, 12838, 12839, 12840,\n",
              "       12841, 12842, 12843, 12844, 12845, 12846, 12847, 12848, 12849,\n",
              "       12850, 12851, 12852, 12853, 12854, 12855, 12856, 12857, 12858,\n",
              "       12859, 12860, 12861, 12862, 15663, 15664, 15665, 15666, 15667,\n",
              "       15668, 15669, 15670, 15671, 15672, 15673, 15674, 15675, 15676,\n",
              "       15677, 15678, 15679, 15680, 15681, 15682, 15683, 15684, 15685,\n",
              "       15686, 15687, 15688, 15689, 15690, 15691, 15692, 15693, 15694,\n",
              "       15695, 15696, 15697, 15698, 15699, 15700, 15701, 15702, 15703,\n",
              "       15704, 15705, 15706, 15707, 15708, 15709, 15710, 15711, 15712,\n",
              "       15713, 15714, 15715, 15716, 15717, 15718, 15719, 15720, 15721,\n",
              "       15722, 15723, 15724, 15725, 15726, 15727, 15728, 15729, 15730,\n",
              "       15731, 15732, 15733, 15734, 15735, 15736, 15737, 15738, 15739,\n",
              "       15740, 15741, 15742, 15743, 15744, 15745, 15746, 15747, 15748,\n",
              "       15749, 15750, 15751, 15752, 15753, 15754, 15755, 15756, 15757,\n",
              "       15758, 15759, 15760, 15761, 15762, 15763, 15764, 15765, 15766,\n",
              "       15767, 15768, 15769, 15770, 15771, 15772, 15773, 15774, 15775,\n",
              "       15776, 15777, 15778, 15779, 15780, 15781, 15782, 15783, 15784,\n",
              "       15785, 15786, 15787, 15788, 15789, 15790, 15791, 15792, 15793,\n",
              "       15794, 15795, 15796, 15797, 15798, 15799, 15800, 15801, 15802,\n",
              "       15803, 15804, 15805, 15806, 15807, 15808, 15809, 15810, 15811,\n",
              "       15812, 15813, 15814, 15815, 15816, 15817, 15818, 15819, 15820,\n",
              "       15821, 15822, 15823, 15824, 15825, 15826, 15827, 15828, 15829,\n",
              "       15830, 15831, 15832, 15833, 15834, 15835, 15836, 15837, 15838,\n",
              "       15839, 15840, 15841, 15842, 15843, 15844, 15845, 15846, 15847,\n",
              "       15848, 15849, 15855, 15856, 15857, 15858, 15859, 15860, 15861,\n",
              "       15862, 15863, 15864, 15865, 15866, 15867, 18691, 18705, 18706,\n",
              "       18707, 18708, 18709, 18710, 18711, 18712, 18713, 18714, 18715,\n",
              "       18716, 18717, 18718, 18719, 18720, 18721, 18722, 18725, 18726,\n",
              "       18727, 18728, 18729, 18730, 18731, 18732, 18733, 18742, 19748])"
            ]
          },
          "metadata": {},
          "execution_count": 47
        }
      ]
    },
    {
      "cell_type": "code",
      "source": [
        "\n",
        "print(\"Fault Contribution Per Component:\", faulty_components)"
      ],
      "metadata": {
        "colab": {
          "base_uri": "https://localhost:8080/"
        },
        "id": "wWDP-tscjgTm",
        "outputId": "70a868c7-db4c-4f3b-978a-0e33952f881b"
      },
      "execution_count": 48,
      "outputs": [
        {
          "output_type": "stream",
          "name": "stdout",
          "text": [
            "Fault Contribution Per Component: tensor([0.1147, 0.1149, 0.1146, 0.0989, 0.1619, 0.0687, 0.1252, 0.1268],\n",
            "       device='cuda:0')\n"
          ]
        }
      ]
    },
    {
      "cell_type": "code",
      "source": [
        "rounded_components = np.round(faulty_components, 3)  # round to 3 decimal places\n",
        "print(\"Fault Contribution Per Component:\", rounded_components)"
      ],
      "metadata": {
        "colab": {
          "base_uri": "https://localhost:8080/"
        },
        "id": "mcNXuerwlUIp",
        "outputId": "eef1f9c5-b05c-48d8-f45c-16b2cc1f3a50"
      },
      "execution_count": 51,
      "outputs": [
        {
          "output_type": "stream",
          "name": "stdout",
          "text": [
            "Fault Contribution Per Component: [0.115 0.115 0.115 0.099 0.162 0.069 0.125 0.127]\n"
          ]
        }
      ]
    },
    {
      "cell_type": "code",
      "source": [
        "rounded_components"
      ],
      "metadata": {
        "colab": {
          "base_uri": "https://localhost:8080/"
        },
        "id": "S1iFRHSrlnyX",
        "outputId": "4e0e34da-cdfe-4615-c678-fe0eb4cb4bc4"
      },
      "execution_count": 54,
      "outputs": [
        {
          "output_type": "execute_result",
          "data": {
            "text/plain": [
              "array([0.115, 0.115, 0.115, 0.099, 0.162, 0.069, 0.125, 0.127],\n",
              "      dtype=float32)"
            ]
          },
          "metadata": {},
          "execution_count": 54
        }
      ]
    },
    {
      "cell_type": "code",
      "source": [
        "import plotly.graph_objects as go\n",
        "import torch\n",
        "import numpy as np\n",
        "\n",
        "component_names = [\"A\", \"B\", \"C\", \"L1\", \"L2\", \"L3\", \"L4\", \"L5\"]\n",
        "\n",
        "if isinstance(rounded_components, torch.Tensor):\n",
        "    rounded_components = rounded_components.detach().cpu().numpy()\n",
        "\n",
        "text_labels = [f\"{v:.3f}\" for v in rounded_components]\n",
        "\n",
        "fig = go.Figure(data=[\n",
        "    go.Bar(\n",
        "        x=component_names,\n",
        "        y=rounded_components,\n",
        "        marker_color='indianred',\n",
        "        text=text_labels,\n",
        "        textposition='outside'\n",
        "    )\n",
        "])\n",
        "\n",
        "fig.update_layout(\n",
        "    title=\"Anomaly Contribution per Component\",\n",
        "    xaxis_title=\"Component\",\n",
        "    yaxis_title=\"Anomaly Score\",\n",
        "    yaxis=dict(showgrid=True),\n",
        "    template=\"plotly_white\",\n",
        "    height=500,\n",
        "    width=800\n",
        ")\n",
        "\n",
        "fig.show()\n"
      ],
      "metadata": {
        "colab": {
          "base_uri": "https://localhost:8080/",
          "height": 517
        },
        "id": "qUFakHBHlHuT",
        "outputId": "62bb22f8-2ab8-4f53-eaf3-656fafac8a95"
      },
      "execution_count": 61,
      "outputs": [
        {
          "output_type": "display_data",
          "data": {
            "text/html": [
              "<html>\n",
              "<head><meta charset=\"utf-8\" /></head>\n",
              "<body>\n",
              "    <div>            <script src=\"https://cdnjs.cloudflare.com/ajax/libs/mathjax/2.7.5/MathJax.js?config=TeX-AMS-MML_SVG\"></script><script type=\"text/javascript\">if (window.MathJax && window.MathJax.Hub && window.MathJax.Hub.Config) {window.MathJax.Hub.Config({SVG: {font: \"STIX-Web\"}});}</script>                <script type=\"text/javascript\">window.PlotlyConfig = {MathJaxConfig: 'local'};</script>\n",
              "        <script charset=\"utf-8\" src=\"https://cdn.plot.ly/plotly-2.35.2.min.js\"></script>                <div id=\"50e0de88-e23b-47d5-bd5a-e550383e2ed7\" class=\"plotly-graph-div\" style=\"height:500px; width:800px;\"></div>            <script type=\"text/javascript\">                                    window.PLOTLYENV=window.PLOTLYENV || {};                                    if (document.getElementById(\"50e0de88-e23b-47d5-bd5a-e550383e2ed7\")) {                    Plotly.newPlot(                        \"50e0de88-e23b-47d5-bd5a-e550383e2ed7\",                        [{\"marker\":{\"color\":\"indianred\"},\"text\":[\"0.115\",\"0.115\",\"0.115\",\"0.099\",\"0.162\",\"0.069\",\"0.125\",\"0.127\"],\"textposition\":\"outside\",\"x\":[\"A\",\"B\",\"C\",\"L1\",\"L2\",\"L3\",\"L4\",\"L5\"],\"y\":[0.115,0.115,0.115,0.099,0.162,0.069,0.125,0.127],\"type\":\"bar\"}],                        {\"template\":{\"data\":{\"barpolar\":[{\"marker\":{\"line\":{\"color\":\"white\",\"width\":0.5},\"pattern\":{\"fillmode\":\"overlay\",\"size\":10,\"solidity\":0.2}},\"type\":\"barpolar\"}],\"bar\":[{\"error_x\":{\"color\":\"#2a3f5f\"},\"error_y\":{\"color\":\"#2a3f5f\"},\"marker\":{\"line\":{\"color\":\"white\",\"width\":0.5},\"pattern\":{\"fillmode\":\"overlay\",\"size\":10,\"solidity\":0.2}},\"type\":\"bar\"}],\"carpet\":[{\"aaxis\":{\"endlinecolor\":\"#2a3f5f\",\"gridcolor\":\"#C8D4E3\",\"linecolor\":\"#C8D4E3\",\"minorgridcolor\":\"#C8D4E3\",\"startlinecolor\":\"#2a3f5f\"},\"baxis\":{\"endlinecolor\":\"#2a3f5f\",\"gridcolor\":\"#C8D4E3\",\"linecolor\":\"#C8D4E3\",\"minorgridcolor\":\"#C8D4E3\",\"startlinecolor\":\"#2a3f5f\"},\"type\":\"carpet\"}],\"choropleth\":[{\"colorbar\":{\"outlinewidth\":0,\"ticks\":\"\"},\"type\":\"choropleth\"}],\"contourcarpet\":[{\"colorbar\":{\"outlinewidth\":0,\"ticks\":\"\"},\"type\":\"contourcarpet\"}],\"contour\":[{\"colorbar\":{\"outlinewidth\":0,\"ticks\":\"\"},\"colorscale\":[[0.0,\"#0d0887\"],[0.1111111111111111,\"#46039f\"],[0.2222222222222222,\"#7201a8\"],[0.3333333333333333,\"#9c179e\"],[0.4444444444444444,\"#bd3786\"],[0.5555555555555556,\"#d8576b\"],[0.6666666666666666,\"#ed7953\"],[0.7777777777777778,\"#fb9f3a\"],[0.8888888888888888,\"#fdca26\"],[1.0,\"#f0f921\"]],\"type\":\"contour\"}],\"heatmapgl\":[{\"colorbar\":{\"outlinewidth\":0,\"ticks\":\"\"},\"colorscale\":[[0.0,\"#0d0887\"],[0.1111111111111111,\"#46039f\"],[0.2222222222222222,\"#7201a8\"],[0.3333333333333333,\"#9c179e\"],[0.4444444444444444,\"#bd3786\"],[0.5555555555555556,\"#d8576b\"],[0.6666666666666666,\"#ed7953\"],[0.7777777777777778,\"#fb9f3a\"],[0.8888888888888888,\"#fdca26\"],[1.0,\"#f0f921\"]],\"type\":\"heatmapgl\"}],\"heatmap\":[{\"colorbar\":{\"outlinewidth\":0,\"ticks\":\"\"},\"colorscale\":[[0.0,\"#0d0887\"],[0.1111111111111111,\"#46039f\"],[0.2222222222222222,\"#7201a8\"],[0.3333333333333333,\"#9c179e\"],[0.4444444444444444,\"#bd3786\"],[0.5555555555555556,\"#d8576b\"],[0.6666666666666666,\"#ed7953\"],[0.7777777777777778,\"#fb9f3a\"],[0.8888888888888888,\"#fdca26\"],[1.0,\"#f0f921\"]],\"type\":\"heatmap\"}],\"histogram2dcontour\":[{\"colorbar\":{\"outlinewidth\":0,\"ticks\":\"\"},\"colorscale\":[[0.0,\"#0d0887\"],[0.1111111111111111,\"#46039f\"],[0.2222222222222222,\"#7201a8\"],[0.3333333333333333,\"#9c179e\"],[0.4444444444444444,\"#bd3786\"],[0.5555555555555556,\"#d8576b\"],[0.6666666666666666,\"#ed7953\"],[0.7777777777777778,\"#fb9f3a\"],[0.8888888888888888,\"#fdca26\"],[1.0,\"#f0f921\"]],\"type\":\"histogram2dcontour\"}],\"histogram2d\":[{\"colorbar\":{\"outlinewidth\":0,\"ticks\":\"\"},\"colorscale\":[[0.0,\"#0d0887\"],[0.1111111111111111,\"#46039f\"],[0.2222222222222222,\"#7201a8\"],[0.3333333333333333,\"#9c179e\"],[0.4444444444444444,\"#bd3786\"],[0.5555555555555556,\"#d8576b\"],[0.6666666666666666,\"#ed7953\"],[0.7777777777777778,\"#fb9f3a\"],[0.8888888888888888,\"#fdca26\"],[1.0,\"#f0f921\"]],\"type\":\"histogram2d\"}],\"histogram\":[{\"marker\":{\"pattern\":{\"fillmode\":\"overlay\",\"size\":10,\"solidity\":0.2}},\"type\":\"histogram\"}],\"mesh3d\":[{\"colorbar\":{\"outlinewidth\":0,\"ticks\":\"\"},\"type\":\"mesh3d\"}],\"parcoords\":[{\"line\":{\"colorbar\":{\"outlinewidth\":0,\"ticks\":\"\"}},\"type\":\"parcoords\"}],\"pie\":[{\"automargin\":true,\"type\":\"pie\"}],\"scatter3d\":[{\"line\":{\"colorbar\":{\"outlinewidth\":0,\"ticks\":\"\"}},\"marker\":{\"colorbar\":{\"outlinewidth\":0,\"ticks\":\"\"}},\"type\":\"scatter3d\"}],\"scattercarpet\":[{\"marker\":{\"colorbar\":{\"outlinewidth\":0,\"ticks\":\"\"}},\"type\":\"scattercarpet\"}],\"scattergeo\":[{\"marker\":{\"colorbar\":{\"outlinewidth\":0,\"ticks\":\"\"}},\"type\":\"scattergeo\"}],\"scattergl\":[{\"marker\":{\"colorbar\":{\"outlinewidth\":0,\"ticks\":\"\"}},\"type\":\"scattergl\"}],\"scattermapbox\":[{\"marker\":{\"colorbar\":{\"outlinewidth\":0,\"ticks\":\"\"}},\"type\":\"scattermapbox\"}],\"scatterpolargl\":[{\"marker\":{\"colorbar\":{\"outlinewidth\":0,\"ticks\":\"\"}},\"type\":\"scatterpolargl\"}],\"scatterpolar\":[{\"marker\":{\"colorbar\":{\"outlinewidth\":0,\"ticks\":\"\"}},\"type\":\"scatterpolar\"}],\"scatter\":[{\"fillpattern\":{\"fillmode\":\"overlay\",\"size\":10,\"solidity\":0.2},\"type\":\"scatter\"}],\"scatterternary\":[{\"marker\":{\"colorbar\":{\"outlinewidth\":0,\"ticks\":\"\"}},\"type\":\"scatterternary\"}],\"surface\":[{\"colorbar\":{\"outlinewidth\":0,\"ticks\":\"\"},\"colorscale\":[[0.0,\"#0d0887\"],[0.1111111111111111,\"#46039f\"],[0.2222222222222222,\"#7201a8\"],[0.3333333333333333,\"#9c179e\"],[0.4444444444444444,\"#bd3786\"],[0.5555555555555556,\"#d8576b\"],[0.6666666666666666,\"#ed7953\"],[0.7777777777777778,\"#fb9f3a\"],[0.8888888888888888,\"#fdca26\"],[1.0,\"#f0f921\"]],\"type\":\"surface\"}],\"table\":[{\"cells\":{\"fill\":{\"color\":\"#EBF0F8\"},\"line\":{\"color\":\"white\"}},\"header\":{\"fill\":{\"color\":\"#C8D4E3\"},\"line\":{\"color\":\"white\"}},\"type\":\"table\"}]},\"layout\":{\"annotationdefaults\":{\"arrowcolor\":\"#2a3f5f\",\"arrowhead\":0,\"arrowwidth\":1},\"autotypenumbers\":\"strict\",\"coloraxis\":{\"colorbar\":{\"outlinewidth\":0,\"ticks\":\"\"}},\"colorscale\":{\"diverging\":[[0,\"#8e0152\"],[0.1,\"#c51b7d\"],[0.2,\"#de77ae\"],[0.3,\"#f1b6da\"],[0.4,\"#fde0ef\"],[0.5,\"#f7f7f7\"],[0.6,\"#e6f5d0\"],[0.7,\"#b8e186\"],[0.8,\"#7fbc41\"],[0.9,\"#4d9221\"],[1,\"#276419\"]],\"sequential\":[[0.0,\"#0d0887\"],[0.1111111111111111,\"#46039f\"],[0.2222222222222222,\"#7201a8\"],[0.3333333333333333,\"#9c179e\"],[0.4444444444444444,\"#bd3786\"],[0.5555555555555556,\"#d8576b\"],[0.6666666666666666,\"#ed7953\"],[0.7777777777777778,\"#fb9f3a\"],[0.8888888888888888,\"#fdca26\"],[1.0,\"#f0f921\"]],\"sequentialminus\":[[0.0,\"#0d0887\"],[0.1111111111111111,\"#46039f\"],[0.2222222222222222,\"#7201a8\"],[0.3333333333333333,\"#9c179e\"],[0.4444444444444444,\"#bd3786\"],[0.5555555555555556,\"#d8576b\"],[0.6666666666666666,\"#ed7953\"],[0.7777777777777778,\"#fb9f3a\"],[0.8888888888888888,\"#fdca26\"],[1.0,\"#f0f921\"]]},\"colorway\":[\"#636efa\",\"#EF553B\",\"#00cc96\",\"#ab63fa\",\"#FFA15A\",\"#19d3f3\",\"#FF6692\",\"#B6E880\",\"#FF97FF\",\"#FECB52\"],\"font\":{\"color\":\"#2a3f5f\"},\"geo\":{\"bgcolor\":\"white\",\"lakecolor\":\"white\",\"landcolor\":\"white\",\"showlakes\":true,\"showland\":true,\"subunitcolor\":\"#C8D4E3\"},\"hoverlabel\":{\"align\":\"left\"},\"hovermode\":\"closest\",\"mapbox\":{\"style\":\"light\"},\"paper_bgcolor\":\"white\",\"plot_bgcolor\":\"white\",\"polar\":{\"angularaxis\":{\"gridcolor\":\"#EBF0F8\",\"linecolor\":\"#EBF0F8\",\"ticks\":\"\"},\"bgcolor\":\"white\",\"radialaxis\":{\"gridcolor\":\"#EBF0F8\",\"linecolor\":\"#EBF0F8\",\"ticks\":\"\"}},\"scene\":{\"xaxis\":{\"backgroundcolor\":\"white\",\"gridcolor\":\"#DFE8F3\",\"gridwidth\":2,\"linecolor\":\"#EBF0F8\",\"showbackground\":true,\"ticks\":\"\",\"zerolinecolor\":\"#EBF0F8\"},\"yaxis\":{\"backgroundcolor\":\"white\",\"gridcolor\":\"#DFE8F3\",\"gridwidth\":2,\"linecolor\":\"#EBF0F8\",\"showbackground\":true,\"ticks\":\"\",\"zerolinecolor\":\"#EBF0F8\"},\"zaxis\":{\"backgroundcolor\":\"white\",\"gridcolor\":\"#DFE8F3\",\"gridwidth\":2,\"linecolor\":\"#EBF0F8\",\"showbackground\":true,\"ticks\":\"\",\"zerolinecolor\":\"#EBF0F8\"}},\"shapedefaults\":{\"line\":{\"color\":\"#2a3f5f\"}},\"ternary\":{\"aaxis\":{\"gridcolor\":\"#DFE8F3\",\"linecolor\":\"#A2B1C6\",\"ticks\":\"\"},\"baxis\":{\"gridcolor\":\"#DFE8F3\",\"linecolor\":\"#A2B1C6\",\"ticks\":\"\"},\"bgcolor\":\"white\",\"caxis\":{\"gridcolor\":\"#DFE8F3\",\"linecolor\":\"#A2B1C6\",\"ticks\":\"\"}},\"title\":{\"x\":0.05},\"xaxis\":{\"automargin\":true,\"gridcolor\":\"#EBF0F8\",\"linecolor\":\"#EBF0F8\",\"ticks\":\"\",\"title\":{\"standoff\":15},\"zerolinecolor\":\"#EBF0F8\",\"zerolinewidth\":2},\"yaxis\":{\"automargin\":true,\"gridcolor\":\"#EBF0F8\",\"linecolor\":\"#EBF0F8\",\"ticks\":\"\",\"title\":{\"standoff\":15},\"zerolinecolor\":\"#EBF0F8\",\"zerolinewidth\":2}}},\"yaxis\":{\"title\":{\"text\":\"Anomaly Score\"},\"showgrid\":true},\"title\":{\"text\":\"Anomaly Contribution per Component\"},\"xaxis\":{\"title\":{\"text\":\"Component\"}},\"height\":500,\"width\":800},                        {\"responsive\": true}                    ).then(function(){\n",
              "                            \n",
              "var gd = document.getElementById('50e0de88-e23b-47d5-bd5a-e550383e2ed7');\n",
              "var x = new MutationObserver(function (mutations, observer) {{\n",
              "        var display = window.getComputedStyle(gd).display;\n",
              "        if (!display || display === 'none') {{\n",
              "            console.log([gd, 'removed!']);\n",
              "            Plotly.purge(gd);\n",
              "            observer.disconnect();\n",
              "        }}\n",
              "}});\n",
              "\n",
              "// Listen for the removal of the full notebook cells\n",
              "var notebookContainer = gd.closest('#notebook-container');\n",
              "if (notebookContainer) {{\n",
              "    x.observe(notebookContainer, {childList: true});\n",
              "}}\n",
              "\n",
              "// Listen for the clearing of the current output cell\n",
              "var outputEl = gd.closest('.output');\n",
              "if (outputEl) {{\n",
              "    x.observe(outputEl, {childList: true});\n",
              "}}\n",
              "\n",
              "                        })                };                            </script>        </div>\n",
              "</body>\n",
              "</html>"
            ]
          },
          "metadata": {}
        }
      ]
    },
    {
      "cell_type": "code",
      "source": [],
      "metadata": {
        "id": "xHcwFEnNmCcr"
      },
      "execution_count": null,
      "outputs": []
    }
  ]
}